{
  "cells": [
    {
      "metadata": {
        "_uuid": "8f2839f25d086af736a60e9eeb907d3b93b6e0e5",
        "_cell_guid": "b1076dfc-b9ad-4769-8c92-a6c4dae69d19",
        "trusted": true,
        "id": "ZgVeCG2IiSi9",
        "colab": {
          "base_uri": "https://localhost:8080/"
        },
        "outputId": "798e052f-95a6-457c-edb7-a0cefa1c2ac6"
      },
      "cell_type": "code",
      "source": [
        "# Input data files are available in the read-only \"../input/\" directory\n",
        "# For example, running this (by clicking run or pressing Shift+Enter) will list all files under the input directory\n",
        "\n",
        "import os\n",
        "from statsmodels.tsa.seasonal import seasonal_decompose\n",
        "\n",
        "\n"
      ],
      "execution_count": 1,
      "outputs": [
        {
          "output_type": "stream",
          "name": "stderr",
          "text": [
            "/usr/local/lib/python3.7/dist-packages/statsmodels/tools/_testing.py:19: FutureWarning: pandas.util.testing is deprecated. Use the functions in the public API at pandas.testing instead.\n",
            "  import pandas.util.testing as tm\n"
          ]
        }
      ]
    },
    {
      "cell_type": "code",
      "source": [
        "from google.colab import drive\n",
        "drive.mount('/content/drive')"
      ],
      "metadata": {
        "colab": {
          "base_uri": "https://localhost:8080/"
        },
        "id": "PugwkvJOi2FJ",
        "outputId": "2304271c-360b-4807-ce7b-ad490b04509b"
      },
      "execution_count": 2,
      "outputs": [
        {
          "output_type": "stream",
          "name": "stdout",
          "text": [
            "Mounted at /content/drive\n"
          ]
        }
      ]
    },
    {
      "metadata": {
        "id": "VZXKc7gWiSjA"
      },
      "cell_type": "markdown",
      "source": [
        "## Importing libraries"
      ]
    },
    {
      "metadata": {
        "trusted": true,
        "id": "NaHGJdsZiSjC"
      },
      "cell_type": "code",
      "source": [
        "import numpy as np # linear algebra\n",
        "import pandas as pd # data processing, CSV file I/O (e.g. pd.read_csv)\n",
        "import matplotlib.pyplot as plt\n",
        "import seaborn as sns\n",
        "from fbprophet import Prophet"
      ],
      "execution_count": 3,
      "outputs": []
    },
    {
      "metadata": {
        "id": "L15uhr5aiSjD"
      },
      "cell_type": "markdown",
      "source": [
        "## Importing data set\n",
        "\n",
        "I am taking the data set from year 2005 to 2017. Since, data is too big, it is available in to 3 different files. So, first we will import the files in to 3 distinct dataframes and then we concatenate them in to single file."
      ]
    },
    {
      "metadata": {
        "_uuid": "d629ff2d2480ee46fbb7e2d37f6b5fab8052498a",
        "_cell_guid": "79c7e3d0-c299-4dcb-8224-4455121ee9b0",
        "trusted": true,
        "id": "I7syPThkiSjE",
        "outputId": "6ed8797a-59f1-49e5-e8cf-5c843c1fd2e6",
        "colab": {
          "base_uri": "https://localhost:8080/"
        }
      },
      "cell_type": "code",
      "source": [
        "\n",
        "df_1 = pd.read_csv(\"/content/drive/MyDrive/DS/Chicago_Crimes_2005_to_2007.csv\", error_bad_lines = False)\n",
        "df_2 = pd.read_csv(\"/content/drive/MyDrive/DS/Chicago_Crimes_2008_to_2011.csv\", error_bad_lines = False)\n",
        "df_3 = pd.read_csv(\"/content/drive/MyDrive/DS/Chicago_Crimes_2012_to_2017.csv\", error_bad_lines = False)"
      ],
      "execution_count": 4,
      "outputs": [
        {
          "output_type": "stream",
          "name": "stderr",
          "text": [
            "/usr/local/lib/python3.7/dist-packages/IPython/core/interactiveshell.py:2882: FutureWarning: The error_bad_lines argument has been deprecated and will be removed in a future version.\n",
            "\n",
            "\n",
            "  exec(code_obj, self.user_global_ns, self.user_ns)\n",
            "b'Skipping line 533719: expected 23 fields, saw 24\\n'\n",
            "b'Skipping line 1149094: expected 23 fields, saw 41\\n'\n"
          ]
        }
      ]
    },
    {
      "metadata": {
        "trusted": true,
        "id": "VTnGQtXRiSjF"
      },
      "cell_type": "code",
      "source": [
        "# concatenating the dataframes in to one \n",
        "df = pd.concat([df_1, df_2, df_3])"
      ],
      "execution_count": 5,
      "outputs": []
    },
    {
      "metadata": {
        "id": "oqOU80U9iSjF"
      },
      "cell_type": "markdown",
      "source": [
        "## Data preprocessing"
      ]
    },
    {
      "metadata": {
        "id": "ZDrBTFBqiSjG"
      },
      "cell_type": "markdown",
      "source": [
        "Let's look at first five row to get a broad understanding of data set using dataframe head function."
      ]
    },
    {
      "metadata": {
        "trusted": true,
        "id": "dB5HKSm2iSjI",
        "outputId": "f753115a-236f-4052-9a99-473bd6cad8c9",
        "colab": {
          "base_uri": "https://localhost:8080/",
          "height": 490
        }
      },
      "cell_type": "code",
      "source": [
        "df.head()"
      ],
      "execution_count": 6,
      "outputs": [
        {
          "output_type": "execute_result",
          "data": {
            "text/plain": [
              "   Unnamed: 0       ID Case Number                    Date  \\\n",
              "0           0  4673626    HM274058  04/02/2006 01:00:00 PM   \n",
              "1           1  4673627    HM202199  02/26/2006 01:40:48 PM   \n",
              "2           2  4673628    HM113861  01/08/2006 11:16:00 PM   \n",
              "3           4  4673629    HM274049  04/05/2006 06:45:00 PM   \n",
              "4           5  4673630    HM187120  02/17/2006 09:03:14 PM   \n",
              "\n",
              "                 Block  IUCR   Primary Type                   Description  \\\n",
              "0    055XX N MANGO AVE  2825  OTHER OFFENSE       HARASSMENT BY TELEPHONE   \n",
              "1   065XX S RHODES AVE  2017      NARCOTICS            MANU/DELIVER:CRACK   \n",
              "2      013XX E 69TH ST  051A        ASSAULT           AGGRAVATED: HANDGUN   \n",
              "3  061XX W NEWPORT AVE  0460        BATTERY                        SIMPLE   \n",
              "4      037XX W 60TH ST  1811      NARCOTICS  POSS: CANNABIS 30GMS OR LESS   \n",
              "\n",
              "  Location Description  Arrest  ...  Ward  Community Area  FBI Code  \\\n",
              "0            RESIDENCE   False  ...  45.0            11.0        26   \n",
              "1             SIDEWALK    True  ...  20.0            42.0        18   \n",
              "2                OTHER   False  ...   5.0            69.0       04A   \n",
              "3            RESIDENCE   False  ...  38.0            17.0       08B   \n",
              "4                ALLEY    True  ...  13.0            65.0        18   \n",
              "\n",
              "   X Coordinate  Y Coordinate  Year              Updated On   Latitude  \\\n",
              "0     1136872.0     1936499.0  2006  04/15/2016 08:55:02 AM  41.981913   \n",
              "1     1181027.0     1861693.0  2006  04/15/2016 08:55:02 AM  41.775733   \n",
              "2     1186023.0     1859609.0  2006  04/15/2016 08:55:02 AM  41.769897   \n",
              "3     1134772.0     1922299.0  2006  04/15/2016 08:55:02 AM  41.942984   \n",
              "4     1152412.0     1864560.0  2006  04/15/2016 08:55:02 AM  41.784211   \n",
              "\n",
              "   Longitude                       Location  \n",
              "0 -87.771996  (41.981912692, -87.771996382)  \n",
              "1 -87.611920  (41.775732538, -87.611919814)  \n",
              "2 -87.593671  (41.769897392, -87.593670899)  \n",
              "3 -87.780057  (41.942984005, -87.780056951)  \n",
              "4 -87.716745   (41.784210853, -87.71674491)  \n",
              "\n",
              "[5 rows x 23 columns]"
            ],
            "text/html": [
              "\n",
              "  <div id=\"df-fe9921a4-5b02-48f3-8b2e-f8888f75575a\">\n",
              "    <div class=\"colab-df-container\">\n",
              "      <div>\n",
              "<style scoped>\n",
              "    .dataframe tbody tr th:only-of-type {\n",
              "        vertical-align: middle;\n",
              "    }\n",
              "\n",
              "    .dataframe tbody tr th {\n",
              "        vertical-align: top;\n",
              "    }\n",
              "\n",
              "    .dataframe thead th {\n",
              "        text-align: right;\n",
              "    }\n",
              "</style>\n",
              "<table border=\"1\" class=\"dataframe\">\n",
              "  <thead>\n",
              "    <tr style=\"text-align: right;\">\n",
              "      <th></th>\n",
              "      <th>Unnamed: 0</th>\n",
              "      <th>ID</th>\n",
              "      <th>Case Number</th>\n",
              "      <th>Date</th>\n",
              "      <th>Block</th>\n",
              "      <th>IUCR</th>\n",
              "      <th>Primary Type</th>\n",
              "      <th>Description</th>\n",
              "      <th>Location Description</th>\n",
              "      <th>Arrest</th>\n",
              "      <th>...</th>\n",
              "      <th>Ward</th>\n",
              "      <th>Community Area</th>\n",
              "      <th>FBI Code</th>\n",
              "      <th>X Coordinate</th>\n",
              "      <th>Y Coordinate</th>\n",
              "      <th>Year</th>\n",
              "      <th>Updated On</th>\n",
              "      <th>Latitude</th>\n",
              "      <th>Longitude</th>\n",
              "      <th>Location</th>\n",
              "    </tr>\n",
              "  </thead>\n",
              "  <tbody>\n",
              "    <tr>\n",
              "      <th>0</th>\n",
              "      <td>0</td>\n",
              "      <td>4673626</td>\n",
              "      <td>HM274058</td>\n",
              "      <td>04/02/2006 01:00:00 PM</td>\n",
              "      <td>055XX N MANGO AVE</td>\n",
              "      <td>2825</td>\n",
              "      <td>OTHER OFFENSE</td>\n",
              "      <td>HARASSMENT BY TELEPHONE</td>\n",
              "      <td>RESIDENCE</td>\n",
              "      <td>False</td>\n",
              "      <td>...</td>\n",
              "      <td>45.0</td>\n",
              "      <td>11.0</td>\n",
              "      <td>26</td>\n",
              "      <td>1136872.0</td>\n",
              "      <td>1936499.0</td>\n",
              "      <td>2006</td>\n",
              "      <td>04/15/2016 08:55:02 AM</td>\n",
              "      <td>41.981913</td>\n",
              "      <td>-87.771996</td>\n",
              "      <td>(41.981912692, -87.771996382)</td>\n",
              "    </tr>\n",
              "    <tr>\n",
              "      <th>1</th>\n",
              "      <td>1</td>\n",
              "      <td>4673627</td>\n",
              "      <td>HM202199</td>\n",
              "      <td>02/26/2006 01:40:48 PM</td>\n",
              "      <td>065XX S RHODES AVE</td>\n",
              "      <td>2017</td>\n",
              "      <td>NARCOTICS</td>\n",
              "      <td>MANU/DELIVER:CRACK</td>\n",
              "      <td>SIDEWALK</td>\n",
              "      <td>True</td>\n",
              "      <td>...</td>\n",
              "      <td>20.0</td>\n",
              "      <td>42.0</td>\n",
              "      <td>18</td>\n",
              "      <td>1181027.0</td>\n",
              "      <td>1861693.0</td>\n",
              "      <td>2006</td>\n",
              "      <td>04/15/2016 08:55:02 AM</td>\n",
              "      <td>41.775733</td>\n",
              "      <td>-87.611920</td>\n",
              "      <td>(41.775732538, -87.611919814)</td>\n",
              "    </tr>\n",
              "    <tr>\n",
              "      <th>2</th>\n",
              "      <td>2</td>\n",
              "      <td>4673628</td>\n",
              "      <td>HM113861</td>\n",
              "      <td>01/08/2006 11:16:00 PM</td>\n",
              "      <td>013XX E 69TH ST</td>\n",
              "      <td>051A</td>\n",
              "      <td>ASSAULT</td>\n",
              "      <td>AGGRAVATED: HANDGUN</td>\n",
              "      <td>OTHER</td>\n",
              "      <td>False</td>\n",
              "      <td>...</td>\n",
              "      <td>5.0</td>\n",
              "      <td>69.0</td>\n",
              "      <td>04A</td>\n",
              "      <td>1186023.0</td>\n",
              "      <td>1859609.0</td>\n",
              "      <td>2006</td>\n",
              "      <td>04/15/2016 08:55:02 AM</td>\n",
              "      <td>41.769897</td>\n",
              "      <td>-87.593671</td>\n",
              "      <td>(41.769897392, -87.593670899)</td>\n",
              "    </tr>\n",
              "    <tr>\n",
              "      <th>3</th>\n",
              "      <td>4</td>\n",
              "      <td>4673629</td>\n",
              "      <td>HM274049</td>\n",
              "      <td>04/05/2006 06:45:00 PM</td>\n",
              "      <td>061XX W NEWPORT AVE</td>\n",
              "      <td>0460</td>\n",
              "      <td>BATTERY</td>\n",
              "      <td>SIMPLE</td>\n",
              "      <td>RESIDENCE</td>\n",
              "      <td>False</td>\n",
              "      <td>...</td>\n",
              "      <td>38.0</td>\n",
              "      <td>17.0</td>\n",
              "      <td>08B</td>\n",
              "      <td>1134772.0</td>\n",
              "      <td>1922299.0</td>\n",
              "      <td>2006</td>\n",
              "      <td>04/15/2016 08:55:02 AM</td>\n",
              "      <td>41.942984</td>\n",
              "      <td>-87.780057</td>\n",
              "      <td>(41.942984005, -87.780056951)</td>\n",
              "    </tr>\n",
              "    <tr>\n",
              "      <th>4</th>\n",
              "      <td>5</td>\n",
              "      <td>4673630</td>\n",
              "      <td>HM187120</td>\n",
              "      <td>02/17/2006 09:03:14 PM</td>\n",
              "      <td>037XX W 60TH ST</td>\n",
              "      <td>1811</td>\n",
              "      <td>NARCOTICS</td>\n",
              "      <td>POSS: CANNABIS 30GMS OR LESS</td>\n",
              "      <td>ALLEY</td>\n",
              "      <td>True</td>\n",
              "      <td>...</td>\n",
              "      <td>13.0</td>\n",
              "      <td>65.0</td>\n",
              "      <td>18</td>\n",
              "      <td>1152412.0</td>\n",
              "      <td>1864560.0</td>\n",
              "      <td>2006</td>\n",
              "      <td>04/15/2016 08:55:02 AM</td>\n",
              "      <td>41.784211</td>\n",
              "      <td>-87.716745</td>\n",
              "      <td>(41.784210853, -87.71674491)</td>\n",
              "    </tr>\n",
              "  </tbody>\n",
              "</table>\n",
              "<p>5 rows × 23 columns</p>\n",
              "</div>\n",
              "      <button class=\"colab-df-convert\" onclick=\"convertToInteractive('df-fe9921a4-5b02-48f3-8b2e-f8888f75575a')\"\n",
              "              title=\"Convert this dataframe to an interactive table.\"\n",
              "              style=\"display:none;\">\n",
              "        \n",
              "  <svg xmlns=\"http://www.w3.org/2000/svg\" height=\"24px\"viewBox=\"0 0 24 24\"\n",
              "       width=\"24px\">\n",
              "    <path d=\"M0 0h24v24H0V0z\" fill=\"none\"/>\n",
              "    <path d=\"M18.56 5.44l.94 2.06.94-2.06 2.06-.94-2.06-.94-.94-2.06-.94 2.06-2.06.94zm-11 1L8.5 8.5l.94-2.06 2.06-.94-2.06-.94L8.5 2.5l-.94 2.06-2.06.94zm10 10l.94 2.06.94-2.06 2.06-.94-2.06-.94-.94-2.06-.94 2.06-2.06.94z\"/><path d=\"M17.41 7.96l-1.37-1.37c-.4-.4-.92-.59-1.43-.59-.52 0-1.04.2-1.43.59L10.3 9.45l-7.72 7.72c-.78.78-.78 2.05 0 2.83L4 21.41c.39.39.9.59 1.41.59.51 0 1.02-.2 1.41-.59l7.78-7.78 2.81-2.81c.8-.78.8-2.07 0-2.86zM5.41 20L4 18.59l7.72-7.72 1.47 1.35L5.41 20z\"/>\n",
              "  </svg>\n",
              "      </button>\n",
              "      \n",
              "  <style>\n",
              "    .colab-df-container {\n",
              "      display:flex;\n",
              "      flex-wrap:wrap;\n",
              "      gap: 12px;\n",
              "    }\n",
              "\n",
              "    .colab-df-convert {\n",
              "      background-color: #E8F0FE;\n",
              "      border: none;\n",
              "      border-radius: 50%;\n",
              "      cursor: pointer;\n",
              "      display: none;\n",
              "      fill: #1967D2;\n",
              "      height: 32px;\n",
              "      padding: 0 0 0 0;\n",
              "      width: 32px;\n",
              "    }\n",
              "\n",
              "    .colab-df-convert:hover {\n",
              "      background-color: #E2EBFA;\n",
              "      box-shadow: 0px 1px 2px rgba(60, 64, 67, 0.3), 0px 1px 3px 1px rgba(60, 64, 67, 0.15);\n",
              "      fill: #174EA6;\n",
              "    }\n",
              "\n",
              "    [theme=dark] .colab-df-convert {\n",
              "      background-color: #3B4455;\n",
              "      fill: #D2E3FC;\n",
              "    }\n",
              "\n",
              "    [theme=dark] .colab-df-convert:hover {\n",
              "      background-color: #434B5C;\n",
              "      box-shadow: 0px 1px 3px 1px rgba(0, 0, 0, 0.15);\n",
              "      filter: drop-shadow(0px 1px 2px rgba(0, 0, 0, 0.3));\n",
              "      fill: #FFFFFF;\n",
              "    }\n",
              "  </style>\n",
              "\n",
              "      <script>\n",
              "        const buttonEl =\n",
              "          document.querySelector('#df-fe9921a4-5b02-48f3-8b2e-f8888f75575a button.colab-df-convert');\n",
              "        buttonEl.style.display =\n",
              "          google.colab.kernel.accessAllowed ? 'block' : 'none';\n",
              "\n",
              "        async function convertToInteractive(key) {\n",
              "          const element = document.querySelector('#df-fe9921a4-5b02-48f3-8b2e-f8888f75575a');\n",
              "          const dataTable =\n",
              "            await google.colab.kernel.invokeFunction('convertToInteractive',\n",
              "                                                     [key], {});\n",
              "          if (!dataTable) return;\n",
              "\n",
              "          const docLinkHtml = 'Like what you see? Visit the ' +\n",
              "            '<a target=\"_blank\" href=https://colab.research.google.com/notebooks/data_table.ipynb>data table notebook</a>'\n",
              "            + ' to learn more about interactive tables.';\n",
              "          element.innerHTML = '';\n",
              "          dataTable['output_type'] = 'display_data';\n",
              "          await google.colab.output.renderOutput(dataTable, element);\n",
              "          const docLink = document.createElement('div');\n",
              "          docLink.innerHTML = docLinkHtml;\n",
              "          element.appendChild(docLink);\n",
              "        }\n",
              "      </script>\n",
              "    </div>\n",
              "  </div>\n",
              "  "
            ]
          },
          "metadata": {},
          "execution_count": 6
        }
      ]
    },
    {
      "metadata": {
        "id": "yluRCF8MiSjJ"
      },
      "cell_type": "markdown",
      "source": [
        "Now, let's see how many rows and columns we have in a data set."
      ]
    },
    {
      "metadata": {
        "trusted": true,
        "id": "Fruv91mbiSjK",
        "outputId": "c92457b9-b154-4e88-aaa9-a1f1e349d3a9",
        "colab": {
          "base_uri": "https://localhost:8080/"
        }
      },
      "cell_type": "code",
      "source": [
        "df.shape"
      ],
      "execution_count": null,
      "outputs": [
        {
          "output_type": "execute_result",
          "data": {
            "text/plain": [
              "(6017767, 23)"
            ]
          },
          "metadata": {},
          "execution_count": 8
        }
      ]
    },
    {
      "metadata": {
        "id": "NgBCovt9iSjK"
      },
      "cell_type": "markdown",
      "source": [
        "As we can see in the above output, the dataframe have more than 6 million rows and 23 columns which is quite huge."
      ]
    },
    {
      "metadata": {
        "id": "g7L7-Ox0iSjM"
      },
      "cell_type": "markdown",
      "source": [
        "Since, the data is huge we are pretty sure that there will be some NULL values in a columns. To check the NULL values, I am using the seaborn heatmap function to visualize the NULL values."
      ]
    },
    {
      "metadata": {
        "id": "Hm7MEszEiSjN"
      },
      "cell_type": "markdown",
      "source": [
        "The blue lines in the above figure are showing the NULL values. The NULL values are present in columns X Coordinates, Y Coordinates, Latitude, Longitude and Location."
      ]
    },
    {
      "metadata": {
        "id": "yW8foZlNiSjN"
      },
      "cell_type": "markdown",
      "source": [
        "Now, our further case study will be on only 5 columns namely Date, Block, Primary Type, Description, Location Description, Arrest and Domestic."
      ]
    },
    {
      "metadata": {
        "trusted": true,
        "id": "ul5umkItiSjO",
        "outputId": "e5dccece-acaf-4847-d5c6-b872a3f6052a",
        "colab": {
          "base_uri": "https://localhost:8080/",
          "height": 206
        }
      },
      "cell_type": "code",
      "source": [
        "df_new = df[['Date', 'Block', 'Primary Type', 'Description', 'Location Description', 'Arrest', 'Domestic']]\n",
        "df_new.head()"
      ],
      "execution_count": 8,
      "outputs": [
        {
          "output_type": "execute_result",
          "data": {
            "text/plain": [
              "                     Date                Block   Primary Type  \\\n",
              "0  04/02/2006 01:00:00 PM    055XX N MANGO AVE  OTHER OFFENSE   \n",
              "1  02/26/2006 01:40:48 PM   065XX S RHODES AVE      NARCOTICS   \n",
              "2  01/08/2006 11:16:00 PM      013XX E 69TH ST        ASSAULT   \n",
              "3  04/05/2006 06:45:00 PM  061XX W NEWPORT AVE        BATTERY   \n",
              "4  02/17/2006 09:03:14 PM      037XX W 60TH ST      NARCOTICS   \n",
              "\n",
              "                    Description Location Description  Arrest  Domestic  \n",
              "0       HARASSMENT BY TELEPHONE            RESIDENCE   False     False  \n",
              "1            MANU/DELIVER:CRACK             SIDEWALK    True     False  \n",
              "2           AGGRAVATED: HANDGUN                OTHER   False     False  \n",
              "3                        SIMPLE            RESIDENCE   False     False  \n",
              "4  POSS: CANNABIS 30GMS OR LESS                ALLEY    True     False  "
            ],
            "text/html": [
              "\n",
              "  <div id=\"df-433b796d-969b-4feb-9e39-ade2023b8e2b\">\n",
              "    <div class=\"colab-df-container\">\n",
              "      <div>\n",
              "<style scoped>\n",
              "    .dataframe tbody tr th:only-of-type {\n",
              "        vertical-align: middle;\n",
              "    }\n",
              "\n",
              "    .dataframe tbody tr th {\n",
              "        vertical-align: top;\n",
              "    }\n",
              "\n",
              "    .dataframe thead th {\n",
              "        text-align: right;\n",
              "    }\n",
              "</style>\n",
              "<table border=\"1\" class=\"dataframe\">\n",
              "  <thead>\n",
              "    <tr style=\"text-align: right;\">\n",
              "      <th></th>\n",
              "      <th>Date</th>\n",
              "      <th>Block</th>\n",
              "      <th>Primary Type</th>\n",
              "      <th>Description</th>\n",
              "      <th>Location Description</th>\n",
              "      <th>Arrest</th>\n",
              "      <th>Domestic</th>\n",
              "    </tr>\n",
              "  </thead>\n",
              "  <tbody>\n",
              "    <tr>\n",
              "      <th>0</th>\n",
              "      <td>04/02/2006 01:00:00 PM</td>\n",
              "      <td>055XX N MANGO AVE</td>\n",
              "      <td>OTHER OFFENSE</td>\n",
              "      <td>HARASSMENT BY TELEPHONE</td>\n",
              "      <td>RESIDENCE</td>\n",
              "      <td>False</td>\n",
              "      <td>False</td>\n",
              "    </tr>\n",
              "    <tr>\n",
              "      <th>1</th>\n",
              "      <td>02/26/2006 01:40:48 PM</td>\n",
              "      <td>065XX S RHODES AVE</td>\n",
              "      <td>NARCOTICS</td>\n",
              "      <td>MANU/DELIVER:CRACK</td>\n",
              "      <td>SIDEWALK</td>\n",
              "      <td>True</td>\n",
              "      <td>False</td>\n",
              "    </tr>\n",
              "    <tr>\n",
              "      <th>2</th>\n",
              "      <td>01/08/2006 11:16:00 PM</td>\n",
              "      <td>013XX E 69TH ST</td>\n",
              "      <td>ASSAULT</td>\n",
              "      <td>AGGRAVATED: HANDGUN</td>\n",
              "      <td>OTHER</td>\n",
              "      <td>False</td>\n",
              "      <td>False</td>\n",
              "    </tr>\n",
              "    <tr>\n",
              "      <th>3</th>\n",
              "      <td>04/05/2006 06:45:00 PM</td>\n",
              "      <td>061XX W NEWPORT AVE</td>\n",
              "      <td>BATTERY</td>\n",
              "      <td>SIMPLE</td>\n",
              "      <td>RESIDENCE</td>\n",
              "      <td>False</td>\n",
              "      <td>False</td>\n",
              "    </tr>\n",
              "    <tr>\n",
              "      <th>4</th>\n",
              "      <td>02/17/2006 09:03:14 PM</td>\n",
              "      <td>037XX W 60TH ST</td>\n",
              "      <td>NARCOTICS</td>\n",
              "      <td>POSS: CANNABIS 30GMS OR LESS</td>\n",
              "      <td>ALLEY</td>\n",
              "      <td>True</td>\n",
              "      <td>False</td>\n",
              "    </tr>\n",
              "  </tbody>\n",
              "</table>\n",
              "</div>\n",
              "      <button class=\"colab-df-convert\" onclick=\"convertToInteractive('df-433b796d-969b-4feb-9e39-ade2023b8e2b')\"\n",
              "              title=\"Convert this dataframe to an interactive table.\"\n",
              "              style=\"display:none;\">\n",
              "        \n",
              "  <svg xmlns=\"http://www.w3.org/2000/svg\" height=\"24px\"viewBox=\"0 0 24 24\"\n",
              "       width=\"24px\">\n",
              "    <path d=\"M0 0h24v24H0V0z\" fill=\"none\"/>\n",
              "    <path d=\"M18.56 5.44l.94 2.06.94-2.06 2.06-.94-2.06-.94-.94-2.06-.94 2.06-2.06.94zm-11 1L8.5 8.5l.94-2.06 2.06-.94-2.06-.94L8.5 2.5l-.94 2.06-2.06.94zm10 10l.94 2.06.94-2.06 2.06-.94-2.06-.94-.94-2.06-.94 2.06-2.06.94z\"/><path d=\"M17.41 7.96l-1.37-1.37c-.4-.4-.92-.59-1.43-.59-.52 0-1.04.2-1.43.59L10.3 9.45l-7.72 7.72c-.78.78-.78 2.05 0 2.83L4 21.41c.39.39.9.59 1.41.59.51 0 1.02-.2 1.41-.59l7.78-7.78 2.81-2.81c.8-.78.8-2.07 0-2.86zM5.41 20L4 18.59l7.72-7.72 1.47 1.35L5.41 20z\"/>\n",
              "  </svg>\n",
              "      </button>\n",
              "      \n",
              "  <style>\n",
              "    .colab-df-container {\n",
              "      display:flex;\n",
              "      flex-wrap:wrap;\n",
              "      gap: 12px;\n",
              "    }\n",
              "\n",
              "    .colab-df-convert {\n",
              "      background-color: #E8F0FE;\n",
              "      border: none;\n",
              "      border-radius: 50%;\n",
              "      cursor: pointer;\n",
              "      display: none;\n",
              "      fill: #1967D2;\n",
              "      height: 32px;\n",
              "      padding: 0 0 0 0;\n",
              "      width: 32px;\n",
              "    }\n",
              "\n",
              "    .colab-df-convert:hover {\n",
              "      background-color: #E2EBFA;\n",
              "      box-shadow: 0px 1px 2px rgba(60, 64, 67, 0.3), 0px 1px 3px 1px rgba(60, 64, 67, 0.15);\n",
              "      fill: #174EA6;\n",
              "    }\n",
              "\n",
              "    [theme=dark] .colab-df-convert {\n",
              "      background-color: #3B4455;\n",
              "      fill: #D2E3FC;\n",
              "    }\n",
              "\n",
              "    [theme=dark] .colab-df-convert:hover {\n",
              "      background-color: #434B5C;\n",
              "      box-shadow: 0px 1px 3px 1px rgba(0, 0, 0, 0.15);\n",
              "      filter: drop-shadow(0px 1px 2px rgba(0, 0, 0, 0.3));\n",
              "      fill: #FFFFFF;\n",
              "    }\n",
              "  </style>\n",
              "\n",
              "      <script>\n",
              "        const buttonEl =\n",
              "          document.querySelector('#df-433b796d-969b-4feb-9e39-ade2023b8e2b button.colab-df-convert');\n",
              "        buttonEl.style.display =\n",
              "          google.colab.kernel.accessAllowed ? 'block' : 'none';\n",
              "\n",
              "        async function convertToInteractive(key) {\n",
              "          const element = document.querySelector('#df-433b796d-969b-4feb-9e39-ade2023b8e2b');\n",
              "          const dataTable =\n",
              "            await google.colab.kernel.invokeFunction('convertToInteractive',\n",
              "                                                     [key], {});\n",
              "          if (!dataTable) return;\n",
              "\n",
              "          const docLinkHtml = 'Like what you see? Visit the ' +\n",
              "            '<a target=\"_blank\" href=https://colab.research.google.com/notebooks/data_table.ipynb>data table notebook</a>'\n",
              "            + ' to learn more about interactive tables.';\n",
              "          element.innerHTML = '';\n",
              "          dataTable['output_type'] = 'display_data';\n",
              "          await google.colab.output.renderOutput(dataTable, element);\n",
              "          const docLink = document.createElement('div');\n",
              "          docLink.innerHTML = docLinkHtml;\n",
              "          element.appendChild(docLink);\n",
              "        }\n",
              "      </script>\n",
              "    </div>\n",
              "  </div>\n",
              "  "
            ]
          },
          "metadata": {},
          "execution_count": 8
        }
      ]
    },
    {
      "metadata": {
        "id": "dt1Dqy_6iSjP"
      },
      "cell_type": "markdown",
      "source": [
        "We have to convert Date column in to appropriate date time format for further time series analysis."
      ]
    },
    {
      "metadata": {
        "trusted": true,
        "id": "VsrHUIXniSjP",
        "outputId": "14fa017b-d62d-4c95-8ba0-02a011992438",
        "colab": {
          "base_uri": "https://localhost:8080/",
          "height": 310
        }
      },
      "cell_type": "code",
      "source": [
        "df_new.Date = pd.to_datetime(df_new.Date, format = '%m/%d/%Y %I:%M:%S %p')\n",
        "df_new.head()"
      ],
      "execution_count": 9,
      "outputs": [
        {
          "output_type": "stream",
          "name": "stderr",
          "text": [
            "/usr/local/lib/python3.7/dist-packages/pandas/core/generic.py:5516: SettingWithCopyWarning: \n",
            "A value is trying to be set on a copy of a slice from a DataFrame.\n",
            "Try using .loc[row_indexer,col_indexer] = value instead\n",
            "\n",
            "See the caveats in the documentation: https://pandas.pydata.org/pandas-docs/stable/user_guide/indexing.html#returning-a-view-versus-a-copy\n",
            "  self[name] = value\n"
          ]
        },
        {
          "output_type": "execute_result",
          "data": {
            "text/plain": [
              "                 Date                Block   Primary Type  \\\n",
              "0 2006-04-02 13:00:00    055XX N MANGO AVE  OTHER OFFENSE   \n",
              "1 2006-02-26 13:40:48   065XX S RHODES AVE      NARCOTICS   \n",
              "2 2006-01-08 23:16:00      013XX E 69TH ST        ASSAULT   \n",
              "3 2006-04-05 18:45:00  061XX W NEWPORT AVE        BATTERY   \n",
              "4 2006-02-17 21:03:14      037XX W 60TH ST      NARCOTICS   \n",
              "\n",
              "                    Description Location Description  Arrest  Domestic  \n",
              "0       HARASSMENT BY TELEPHONE            RESIDENCE   False     False  \n",
              "1            MANU/DELIVER:CRACK             SIDEWALK    True     False  \n",
              "2           AGGRAVATED: HANDGUN                OTHER   False     False  \n",
              "3                        SIMPLE            RESIDENCE   False     False  \n",
              "4  POSS: CANNABIS 30GMS OR LESS                ALLEY    True     False  "
            ],
            "text/html": [
              "\n",
              "  <div id=\"df-058a0dd0-6786-4c66-95c7-48fff18d610a\">\n",
              "    <div class=\"colab-df-container\">\n",
              "      <div>\n",
              "<style scoped>\n",
              "    .dataframe tbody tr th:only-of-type {\n",
              "        vertical-align: middle;\n",
              "    }\n",
              "\n",
              "    .dataframe tbody tr th {\n",
              "        vertical-align: top;\n",
              "    }\n",
              "\n",
              "    .dataframe thead th {\n",
              "        text-align: right;\n",
              "    }\n",
              "</style>\n",
              "<table border=\"1\" class=\"dataframe\">\n",
              "  <thead>\n",
              "    <tr style=\"text-align: right;\">\n",
              "      <th></th>\n",
              "      <th>Date</th>\n",
              "      <th>Block</th>\n",
              "      <th>Primary Type</th>\n",
              "      <th>Description</th>\n",
              "      <th>Location Description</th>\n",
              "      <th>Arrest</th>\n",
              "      <th>Domestic</th>\n",
              "    </tr>\n",
              "  </thead>\n",
              "  <tbody>\n",
              "    <tr>\n",
              "      <th>0</th>\n",
              "      <td>2006-04-02 13:00:00</td>\n",
              "      <td>055XX N MANGO AVE</td>\n",
              "      <td>OTHER OFFENSE</td>\n",
              "      <td>HARASSMENT BY TELEPHONE</td>\n",
              "      <td>RESIDENCE</td>\n",
              "      <td>False</td>\n",
              "      <td>False</td>\n",
              "    </tr>\n",
              "    <tr>\n",
              "      <th>1</th>\n",
              "      <td>2006-02-26 13:40:48</td>\n",
              "      <td>065XX S RHODES AVE</td>\n",
              "      <td>NARCOTICS</td>\n",
              "      <td>MANU/DELIVER:CRACK</td>\n",
              "      <td>SIDEWALK</td>\n",
              "      <td>True</td>\n",
              "      <td>False</td>\n",
              "    </tr>\n",
              "    <tr>\n",
              "      <th>2</th>\n",
              "      <td>2006-01-08 23:16:00</td>\n",
              "      <td>013XX E 69TH ST</td>\n",
              "      <td>ASSAULT</td>\n",
              "      <td>AGGRAVATED: HANDGUN</td>\n",
              "      <td>OTHER</td>\n",
              "      <td>False</td>\n",
              "      <td>False</td>\n",
              "    </tr>\n",
              "    <tr>\n",
              "      <th>3</th>\n",
              "      <td>2006-04-05 18:45:00</td>\n",
              "      <td>061XX W NEWPORT AVE</td>\n",
              "      <td>BATTERY</td>\n",
              "      <td>SIMPLE</td>\n",
              "      <td>RESIDENCE</td>\n",
              "      <td>False</td>\n",
              "      <td>False</td>\n",
              "    </tr>\n",
              "    <tr>\n",
              "      <th>4</th>\n",
              "      <td>2006-02-17 21:03:14</td>\n",
              "      <td>037XX W 60TH ST</td>\n",
              "      <td>NARCOTICS</td>\n",
              "      <td>POSS: CANNABIS 30GMS OR LESS</td>\n",
              "      <td>ALLEY</td>\n",
              "      <td>True</td>\n",
              "      <td>False</td>\n",
              "    </tr>\n",
              "  </tbody>\n",
              "</table>\n",
              "</div>\n",
              "      <button class=\"colab-df-convert\" onclick=\"convertToInteractive('df-058a0dd0-6786-4c66-95c7-48fff18d610a')\"\n",
              "              title=\"Convert this dataframe to an interactive table.\"\n",
              "              style=\"display:none;\">\n",
              "        \n",
              "  <svg xmlns=\"http://www.w3.org/2000/svg\" height=\"24px\"viewBox=\"0 0 24 24\"\n",
              "       width=\"24px\">\n",
              "    <path d=\"M0 0h24v24H0V0z\" fill=\"none\"/>\n",
              "    <path d=\"M18.56 5.44l.94 2.06.94-2.06 2.06-.94-2.06-.94-.94-2.06-.94 2.06-2.06.94zm-11 1L8.5 8.5l.94-2.06 2.06-.94-2.06-.94L8.5 2.5l-.94 2.06-2.06.94zm10 10l.94 2.06.94-2.06 2.06-.94-2.06-.94-.94-2.06-.94 2.06-2.06.94z\"/><path d=\"M17.41 7.96l-1.37-1.37c-.4-.4-.92-.59-1.43-.59-.52 0-1.04.2-1.43.59L10.3 9.45l-7.72 7.72c-.78.78-.78 2.05 0 2.83L4 21.41c.39.39.9.59 1.41.59.51 0 1.02-.2 1.41-.59l7.78-7.78 2.81-2.81c.8-.78.8-2.07 0-2.86zM5.41 20L4 18.59l7.72-7.72 1.47 1.35L5.41 20z\"/>\n",
              "  </svg>\n",
              "      </button>\n",
              "      \n",
              "  <style>\n",
              "    .colab-df-container {\n",
              "      display:flex;\n",
              "      flex-wrap:wrap;\n",
              "      gap: 12px;\n",
              "    }\n",
              "\n",
              "    .colab-df-convert {\n",
              "      background-color: #E8F0FE;\n",
              "      border: none;\n",
              "      border-radius: 50%;\n",
              "      cursor: pointer;\n",
              "      display: none;\n",
              "      fill: #1967D2;\n",
              "      height: 32px;\n",
              "      padding: 0 0 0 0;\n",
              "      width: 32px;\n",
              "    }\n",
              "\n",
              "    .colab-df-convert:hover {\n",
              "      background-color: #E2EBFA;\n",
              "      box-shadow: 0px 1px 2px rgba(60, 64, 67, 0.3), 0px 1px 3px 1px rgba(60, 64, 67, 0.15);\n",
              "      fill: #174EA6;\n",
              "    }\n",
              "\n",
              "    [theme=dark] .colab-df-convert {\n",
              "      background-color: #3B4455;\n",
              "      fill: #D2E3FC;\n",
              "    }\n",
              "\n",
              "    [theme=dark] .colab-df-convert:hover {\n",
              "      background-color: #434B5C;\n",
              "      box-shadow: 0px 1px 3px 1px rgba(0, 0, 0, 0.15);\n",
              "      filter: drop-shadow(0px 1px 2px rgba(0, 0, 0, 0.3));\n",
              "      fill: #FFFFFF;\n",
              "    }\n",
              "  </style>\n",
              "\n",
              "      <script>\n",
              "        const buttonEl =\n",
              "          document.querySelector('#df-058a0dd0-6786-4c66-95c7-48fff18d610a button.colab-df-convert');\n",
              "        buttonEl.style.display =\n",
              "          google.colab.kernel.accessAllowed ? 'block' : 'none';\n",
              "\n",
              "        async function convertToInteractive(key) {\n",
              "          const element = document.querySelector('#df-058a0dd0-6786-4c66-95c7-48fff18d610a');\n",
              "          const dataTable =\n",
              "            await google.colab.kernel.invokeFunction('convertToInteractive',\n",
              "                                                     [key], {});\n",
              "          if (!dataTable) return;\n",
              "\n",
              "          const docLinkHtml = 'Like what you see? Visit the ' +\n",
              "            '<a target=\"_blank\" href=https://colab.research.google.com/notebooks/data_table.ipynb>data table notebook</a>'\n",
              "            + ' to learn more about interactive tables.';\n",
              "          element.innerHTML = '';\n",
              "          dataTable['output_type'] = 'display_data';\n",
              "          await google.colab.output.renderOutput(dataTable, element);\n",
              "          const docLink = document.createElement('div');\n",
              "          docLink.innerHTML = docLinkHtml;\n",
              "          element.appendChild(docLink);\n",
              "        }\n",
              "      </script>\n",
              "    </div>\n",
              "  </div>\n",
              "  "
            ]
          },
          "metadata": {},
          "execution_count": 9
        }
      ]
    },
    {
      "metadata": {
        "id": "YauXgueviSjP"
      },
      "cell_type": "markdown",
      "source": [
        "## Exploratory analysis and visualization"
      ]
    },
    {
      "metadata": {
        "id": "01rY4h_qiSjP"
      },
      "cell_type": "markdown",
      "source": [
        "Let's see the top 15 criminal activity happens in Chicago from 2015 to 2017."
      ]
    },
    {
      "metadata": {
        "trusted": true,
        "id": "HjxSDDDBiSjP",
        "outputId": "75d66e69-f205-47ee-cda7-5bcd07972847",
        "colab": {
          "base_uri": "https://localhost:8080/"
        }
      },
      "cell_type": "code",
      "source": [
        "df_new['Primary Type'].value_counts().iloc[:15]"
      ],
      "execution_count": 10,
      "outputs": [
        {
          "output_type": "execute_result",
          "data": {
            "text/plain": [
              "THEFT                         1245111\n",
              "BATTERY                       1079178\n",
              "CRIMINAL DAMAGE                702702\n",
              "NARCOTICS                      674831\n",
              "BURGLARY                       369056\n",
              "OTHER OFFENSE                  368169\n",
              "ASSAULT                        360244\n",
              "MOTOR VEHICLE THEFT            271624\n",
              "ROBBERY                        229467\n",
              "DECEPTIVE PRACTICE             225180\n",
              "CRIMINAL TRESPASS              171596\n",
              "PROSTITUTION                    60735\n",
              "WEAPONS VIOLATION               60335\n",
              "PUBLIC PEACE VIOLATION          48403\n",
              "OFFENSE INVOLVING CHILDREN      40260\n",
              "Name: Primary Type, dtype: int64"
            ]
          },
          "metadata": {},
          "execution_count": 10
        }
      ]
    },
    {
      "metadata": {
        "id": "rk3tmfvyiSjQ"
      },
      "cell_type": "markdown",
      "source": [
        "Theft is most most common criminal activity with more 1.2 million incidence happened between 2005 to 2017."
      ]
    },
    {
      "metadata": {
        "id": "1SbJJAghiSjR"
      },
      "cell_type": "markdown",
      "source": [
        "Let's visualize the above information in a chart for an interactive view using seaborn countplot function."
      ]
    },
    {
      "metadata": {
        "trusted": true,
        "id": "Zp-Wu-2IiSjS",
        "outputId": "a56540a7-8cbf-482f-acf6-415d4dda330d",
        "colab": {
          "base_uri": "https://localhost:8080/",
          "height": 623
        }
      },
      "cell_type": "code",
      "source": [
        "plt.figure(figsize = (15, 10))\n",
        "sns.countplot(y = 'Primary Type', data = df_new, order = df_new['Primary Type'].value_counts().iloc[:15].index)"
      ],
      "execution_count": 11,
      "outputs": [
        {
          "output_type": "execute_result",
          "data": {
            "text/plain": [
              "<matplotlib.axes._subplots.AxesSubplot at 0x7f73bf945210>"
            ]
          },
          "metadata": {},
          "execution_count": 11
        },
        {
          "output_type": "display_data",
          "data": {
            "text/plain": [
              "<Figure size 1080x720 with 1 Axes>"
            ],
            "image/png": "[encoded data removed]"
          },
          "metadata": {
            "needs_background": "light"
          }
        }
      ]
    },
    {
      "metadata": {
        "trusted": true,
        "id": "ITWVJfdeiSjT",
        "outputId": "48a8fa95-6519-4c08-958d-bc804e5dfa80",
        "colab": {
          "base_uri": "https://localhost:8080/",
          "height": 623
        }
      },
      "cell_type": "code",
      "source": [
        "plt.figure(figsize = (15, 10))\n",
        "sns.countplot(y = 'Location Description', data = df_new, order = df_new['Location Description'].value_counts().iloc[:15].index)"
      ],
      "execution_count": 12,
      "outputs": [
        {
          "output_type": "execute_result",
          "data": {
            "text/plain": [
              "<matplotlib.axes._subplots.AxesSubplot at 0x7f73bf945090>"
            ]
          },
          "metadata": {},
          "execution_count": 12
        },
        {
          "output_type": "display_data",
          "data": {
            "text/plain": [
              "<Figure size 1080x720 with 1 Axes>"
            ],
            "image/png": "[encoded data removed]"
          },
          "metadata": {
            "needs_background": "light"
          }
        }
      ]
    },
    {
      "metadata": {
        "id": "qf-7TF04iSjT"
      },
      "cell_type": "markdown",
      "source": [
        "As we can see in above chart, majority of the crimes happened in Street followed by Residence."
      ]
    },
    {
      "metadata": {
        "trusted": true,
        "id": "yRUgY7TBiSjU",
        "outputId": "b6f31e89-822b-46b6-ead2-d558a5bbec5b",
        "colab": {
          "base_uri": "https://localhost:8080/",
          "height": 238
        }
      },
      "cell_type": "code",
      "source": [
        "df_new.index = pd.DatetimeIndex(df_new.Date)\n",
        "df_new.head()"
      ],
      "execution_count": 13,
      "outputs": [
        {
          "output_type": "execute_result",
          "data": {
            "text/plain": [
              "                                   Date                Block   Primary Type  \\\n",
              "Date                                                                          \n",
              "2006-04-02 13:00:00 2006-04-02 13:00:00    055XX N MANGO AVE  OTHER OFFENSE   \n",
              "2006-02-26 13:40:48 2006-02-26 13:40:48   065XX S RHODES AVE      NARCOTICS   \n",
              "2006-01-08 23:16:00 2006-01-08 23:16:00      013XX E 69TH ST        ASSAULT   \n",
              "2006-04-05 18:45:00 2006-04-05 18:45:00  061XX W NEWPORT AVE        BATTERY   \n",
              "2006-02-17 21:03:14 2006-02-17 21:03:14      037XX W 60TH ST      NARCOTICS   \n",
              "\n",
              "                                      Description Location Description  \\\n",
              "Date                                                                     \n",
              "2006-04-02 13:00:00       HARASSMENT BY TELEPHONE            RESIDENCE   \n",
              "2006-02-26 13:40:48            MANU/DELIVER:CRACK             SIDEWALK   \n",
              "2006-01-08 23:16:00           AGGRAVATED: HANDGUN                OTHER   \n",
              "2006-04-05 18:45:00                        SIMPLE            RESIDENCE   \n",
              "2006-02-17 21:03:14  POSS: CANNABIS 30GMS OR LESS                ALLEY   \n",
              "\n",
              "                     Arrest  Domestic  \n",
              "Date                                   \n",
              "2006-04-02 13:00:00   False     False  \n",
              "2006-02-26 13:40:48    True     False  \n",
              "2006-01-08 23:16:00   False     False  \n",
              "2006-04-05 18:45:00   False     False  \n",
              "2006-02-17 21:03:14    True     False  "
            ],
            "text/html": [
              "\n",
              "  <div id=\"df-6c771257-2a9c-4a81-bd20-b2a96cc11a13\">\n",
              "    <div class=\"colab-df-container\">\n",
              "      <div>\n",
              "<style scoped>\n",
              "    .dataframe tbody tr th:only-of-type {\n",
              "        vertical-align: middle;\n",
              "    }\n",
              "\n",
              "    .dataframe tbody tr th {\n",
              "        vertical-align: top;\n",
              "    }\n",
              "\n",
              "    .dataframe thead th {\n",
              "        text-align: right;\n",
              "    }\n",
              "</style>\n",
              "<table border=\"1\" class=\"dataframe\">\n",
              "  <thead>\n",
              "    <tr style=\"text-align: right;\">\n",
              "      <th></th>\n",
              "      <th>Date</th>\n",
              "      <th>Block</th>\n",
              "      <th>Primary Type</th>\n",
              "      <th>Description</th>\n",
              "      <th>Location Description</th>\n",
              "      <th>Arrest</th>\n",
              "      <th>Domestic</th>\n",
              "    </tr>\n",
              "    <tr>\n",
              "      <th>Date</th>\n",
              "      <th></th>\n",
              "      <th></th>\n",
              "      <th></th>\n",
              "      <th></th>\n",
              "      <th></th>\n",
              "      <th></th>\n",
              "      <th></th>\n",
              "    </tr>\n",
              "  </thead>\n",
              "  <tbody>\n",
              "    <tr>\n",
              "      <th>2006-04-02 13:00:00</th>\n",
              "      <td>2006-04-02 13:00:00</td>\n",
              "      <td>055XX N MANGO AVE</td>\n",
              "      <td>OTHER OFFENSE</td>\n",
              "      <td>HARASSMENT BY TELEPHONE</td>\n",
              "      <td>RESIDENCE</td>\n",
              "      <td>False</td>\n",
              "      <td>False</td>\n",
              "    </tr>\n",
              "    <tr>\n",
              "      <th>2006-02-26 13:40:48</th>\n",
              "      <td>2006-02-26 13:40:48</td>\n",
              "      <td>065XX S RHODES AVE</td>\n",
              "      <td>NARCOTICS</td>\n",
              "      <td>MANU/DELIVER:CRACK</td>\n",
              "      <td>SIDEWALK</td>\n",
              "      <td>True</td>\n",
              "      <td>False</td>\n",
              "    </tr>\n",
              "    <tr>\n",
              "      <th>2006-01-08 23:16:00</th>\n",
              "      <td>2006-01-08 23:16:00</td>\n",
              "      <td>013XX E 69TH ST</td>\n",
              "      <td>ASSAULT</td>\n",
              "      <td>AGGRAVATED: HANDGUN</td>\n",
              "      <td>OTHER</td>\n",
              "      <td>False</td>\n",
              "      <td>False</td>\n",
              "    </tr>\n",
              "    <tr>\n",
              "      <th>2006-04-05 18:45:00</th>\n",
              "      <td>2006-04-05 18:45:00</td>\n",
              "      <td>061XX W NEWPORT AVE</td>\n",
              "      <td>BATTERY</td>\n",
              "      <td>SIMPLE</td>\n",
              "      <td>RESIDENCE</td>\n",
              "      <td>False</td>\n",
              "      <td>False</td>\n",
              "    </tr>\n",
              "    <tr>\n",
              "      <th>2006-02-17 21:03:14</th>\n",
              "      <td>2006-02-17 21:03:14</td>\n",
              "      <td>037XX W 60TH ST</td>\n",
              "      <td>NARCOTICS</td>\n",
              "      <td>POSS: CANNABIS 30GMS OR LESS</td>\n",
              "      <td>ALLEY</td>\n",
              "      <td>True</td>\n",
              "      <td>False</td>\n",
              "    </tr>\n",
              "  </tbody>\n",
              "</table>\n",
              "</div>\n",
              "      <button class=\"colab-df-convert\" onclick=\"convertToInteractive('df-6c771257-2a9c-4a81-bd20-b2a96cc11a13')\"\n",
              "              title=\"Convert this dataframe to an interactive table.\"\n",
              "              style=\"display:none;\">\n",
              "        \n",
              "  <svg xmlns=\"http://www.w3.org/2000/svg\" height=\"24px\"viewBox=\"0 0 24 24\"\n",
              "       width=\"24px\">\n",
              "    <path d=\"M0 0h24v24H0V0z\" fill=\"none\"/>\n",
              "    <path d=\"M18.56 5.44l.94 2.06.94-2.06 2.06-.94-2.06-.94-.94-2.06-.94 2.06-2.06.94zm-11 1L8.5 8.5l.94-2.06 2.06-.94-2.06-.94L8.5 2.5l-.94 2.06-2.06.94zm10 10l.94 2.06.94-2.06 2.06-.94-2.06-.94-.94-2.06-.94 2.06-2.06.94z\"/><path d=\"M17.41 7.96l-1.37-1.37c-.4-.4-.92-.59-1.43-.59-.52 0-1.04.2-1.43.59L10.3 9.45l-7.72 7.72c-.78.78-.78 2.05 0 2.83L4 21.41c.39.39.9.59 1.41.59.51 0 1.02-.2 1.41-.59l7.78-7.78 2.81-2.81c.8-.78.8-2.07 0-2.86zM5.41 20L4 18.59l7.72-7.72 1.47 1.35L5.41 20z\"/>\n",
              "  </svg>\n",
              "      </button>\n",
              "      \n",
              "  <style>\n",
              "    .colab-df-container {\n",
              "      display:flex;\n",
              "      flex-wrap:wrap;\n",
              "      gap: 12px;\n",
              "    }\n",
              "\n",
              "    .colab-df-convert {\n",
              "      background-color: #E8F0FE;\n",
              "      border: none;\n",
              "      border-radius: 50%;\n",
              "      cursor: pointer;\n",
              "      display: none;\n",
              "      fill: #1967D2;\n",
              "      height: 32px;\n",
              "      padding: 0 0 0 0;\n",
              "      width: 32px;\n",
              "    }\n",
              "\n",
              "    .colab-df-convert:hover {\n",
              "      background-color: #E2EBFA;\n",
              "      box-shadow: 0px 1px 2px rgba(60, 64, 67, 0.3), 0px 1px 3px 1px rgba(60, 64, 67, 0.15);\n",
              "      fill: #174EA6;\n",
              "    }\n",
              "\n",
              "    [theme=dark] .colab-df-convert {\n",
              "      background-color: #3B4455;\n",
              "      fill: #D2E3FC;\n",
              "    }\n",
              "\n",
              "    [theme=dark] .colab-df-convert:hover {\n",
              "      background-color: #434B5C;\n",
              "      box-shadow: 0px 1px 3px 1px rgba(0, 0, 0, 0.15);\n",
              "      filter: drop-shadow(0px 1px 2px rgba(0, 0, 0, 0.3));\n",
              "      fill: #FFFFFF;\n",
              "    }\n",
              "  </style>\n",
              "\n",
              "      <script>\n",
              "        const buttonEl =\n",
              "          document.querySelector('#df-6c771257-2a9c-4a81-bd20-b2a96cc11a13 button.colab-df-convert');\n",
              "        buttonEl.style.display =\n",
              "          google.colab.kernel.accessAllowed ? 'block' : 'none';\n",
              "\n",
              "        async function convertToInteractive(key) {\n",
              "          const element = document.querySelector('#df-6c771257-2a9c-4a81-bd20-b2a96cc11a13');\n",
              "          const dataTable =\n",
              "            await google.colab.kernel.invokeFunction('convertToInteractive',\n",
              "                                                     [key], {});\n",
              "          if (!dataTable) return;\n",
              "\n",
              "          const docLinkHtml = 'Like what you see? Visit the ' +\n",
              "            '<a target=\"_blank\" href=https://colab.research.google.com/notebooks/data_table.ipynb>data table notebook</a>'\n",
              "            + ' to learn more about interactive tables.';\n",
              "          element.innerHTML = '';\n",
              "          dataTable['output_type'] = 'display_data';\n",
              "          await google.colab.output.renderOutput(dataTable, element);\n",
              "          const docLink = document.createElement('div');\n",
              "          docLink.innerHTML = docLinkHtml;\n",
              "          element.appendChild(docLink);\n",
              "        }\n",
              "      </script>\n",
              "    </div>\n",
              "  </div>\n",
              "  "
            ]
          },
          "metadata": {},
          "execution_count": 13
        }
      ]
    },
    {
      "metadata": {
        "id": "4slBBZA7iSjU"
      },
      "cell_type": "markdown",
      "source": [
        "Let's count the total number of crimes happened per year"
      ]
    },
    {
      "metadata": {
        "trusted": true,
        "id": "qO-r2llQiSjV",
        "outputId": "97663134-7f48-4276-e070-877921202181",
        "colab": {
          "base_uri": "https://localhost:8080/"
        }
      },
      "cell_type": "code",
      "source": [
        "df_new.resample('Y').size()"
      ],
      "execution_count": 14,
      "outputs": [
        {
          "output_type": "execute_result",
          "data": {
            "text/plain": [
              "Date\n",
              "2005-12-31    455811\n",
              "2006-12-31    794684\n",
              "2007-12-31    621848\n",
              "2008-12-31    852053\n",
              "2009-12-31    783900\n",
              "2010-12-31    700691\n",
              "2011-12-31    352066\n",
              "2012-12-31    335670\n",
              "2013-12-31    306703\n",
              "2014-12-31    274527\n",
              "2015-12-31    262995\n",
              "2016-12-31    265462\n",
              "2017-12-31     11357\n",
              "Freq: A-DEC, dtype: int64"
            ]
          },
          "metadata": {},
          "execution_count": 14
        }
      ]
    },
    {
      "metadata": {
        "trusted": true,
        "id": "FII7u7fCiSjV",
        "outputId": "045aa766-a203-43cf-9790-5ad91ce4d783",
        "colab": {
          "base_uri": "https://localhost:8080/",
          "height": 312
        }
      },
      "cell_type": "code",
      "source": [
        "plt.plot(df_new.resample('Y').size())\n",
        "plt.title('Crime count per year from 2012 to 2017')\n",
        "plt.xlabel('Year')\n",
        "plt.ylabel('Number of crimes')"
      ],
      "execution_count": 15,
      "outputs": [
        {
          "output_type": "execute_result",
          "data": {
            "text/plain": [
              "Text(0, 0.5, 'Number of crimes')"
            ]
          },
          "metadata": {},
          "execution_count": 15
        },
        {
          "output_type": "display_data",
          "data": {
            "text/plain": [
              "<Figure size 432x288 with 1 Axes>"
            ],
            "image/png": "[encoded data removed]"
          },
          "metadata": {
            "needs_background": "light"
          }
        }
      ]
    },
    {
      "metadata": {
        "id": "rj7NukZeiSjW"
      },
      "cell_type": "markdown",
      "source": [
        "As we can see in above plot, the crime rate showing the decreasing trend."
      ]
    },
    {
      "metadata": {
        "id": "YyzGldEuiSjW"
      },
      "cell_type": "markdown",
      "source": [
        "You can visualize the crime rate trend per month by just replacing the 'Y' in resample function with 'm' as seen in code below."
      ]
    },
    {
      "metadata": {
        "trusted": true,
        "id": "7lVmCSOtiSjW",
        "outputId": "1584b6ba-d195-4ea8-e532-abdcf955ac01",
        "colab": {
          "base_uri": "https://localhost:8080/",
          "height": 312
        }
      },
      "cell_type": "code",
      "source": [
        "plt.plot(df_new.resample('m').size())\n",
        "plt.title('Crime count per month from 2012 to 2017')\n",
        "plt.xlabel('Month')\n",
        "plt.ylabel('Number of crimes')"
      ],
      "execution_count": 16,
      "outputs": [
        {
          "output_type": "execute_result",
          "data": {
            "text/plain": [
              "Text(0, 0.5, 'Number of crimes')"
            ]
          },
          "metadata": {},
          "execution_count": 16
        },
        {
          "output_type": "display_data",
          "data": {
            "text/plain": [
              "<Figure size 432x288 with 1 Axes>"
            ],
            "image/png": "[encoded data removed]"
          },
          "metadata": {
            "needs_background": "light"
          }
        }
      ]
    },
    {
      "cell_type": "code",
      "source": [
        "df_new.resample('m').size()"
      ],
      "metadata": {
        "colab": {
          "base_uri": "https://localhost:8080/"
        },
        "id": "D5GbTWkaNeor",
        "outputId": "78957b46-1733-48c1-e402-48424e83e546"
      },
      "execution_count": 17,
      "outputs": [
        {
          "output_type": "execute_result",
          "data": {
            "text/plain": [
              "Date\n",
              "2005-01-31    33983\n",
              "2005-02-28    32042\n",
              "2005-03-31    36970\n",
              "2005-04-30    38963\n",
              "2005-05-31    40572\n",
              "              ...  \n",
              "2016-09-30    23235\n",
              "2016-10-31    23314\n",
              "2016-11-30    21140\n",
              "2016-12-31    19580\n",
              "2017-01-31    11357\n",
              "Freq: M, Length: 145, dtype: int64"
            ]
          },
          "metadata": {},
          "execution_count": 17
        }
      ]
    },
    {
      "cell_type": "code",
      "source": [
        "df_new.resample('d').size()"
      ],
      "metadata": {
        "colab": {
          "base_uri": "https://localhost:8080/"
        },
        "id": "1hXgHIXOPzQa",
        "outputId": "66ef184d-16d1-4ebc-b31a-233637774b00"
      },
      "execution_count": 18,
      "outputs": [
        {
          "output_type": "execute_result",
          "data": {
            "text/plain": [
              "Date\n",
              "2005-01-01    2038\n",
              "2005-01-02    1075\n",
              "2005-01-03    1091\n",
              "2005-01-04    1123\n",
              "2005-01-05     945\n",
              "              ... \n",
              "2017-01-14     649\n",
              "2017-01-15     600\n",
              "2017-01-16     611\n",
              "2017-01-17     659\n",
              "2017-01-18     655\n",
              "Freq: D, Length: 4401, dtype: int64"
            ]
          },
          "metadata": {},
          "execution_count": 18
        }
      ]
    },
    {
      "cell_type": "code",
      "source": [
        "from pylab import rcParams\n",
        "rcParams['figure.figsize'] = 11, 9\n",
        "decomposed_google_open = seasonal_decompose(df_new.resample('m').size()) # The frequncy is annual\n",
        "figure = decomposed_google_open.plot()\n",
        "plt.show()"
      ],
      "metadata": {
        "id": "Q3stLc6T38Qh",
        "colab": {
          "base_uri": "https://localhost:8080/",
          "height": 657
        },
        "outputId": "0f613d66-0b5d-4d1c-96a1-0a7dc06967c9"
      },
      "execution_count": 19,
      "outputs": [
        {
          "output_type": "display_data",
          "data": {
            "text/plain": [
              "<Figure size 792x648 with 4 Axes>"
            ],
            "image/png": "[encoded data removed]"
          },
          "metadata": {
            "needs_background": "light"
          }
        }
      ]
    },
    {
      "cell_type": "code",
      "source": [
        "#Using Augmented Dickey-Fuller test\n",
        "from statsmodels.tsa.stattools import adfuller\n",
        "def dickey_test(data):\n",
        "    X_dickey=data.values\n",
        "    result = adfuller(X_dickey)\n",
        "    print('ADF Statistic: %f' % result[0])\n",
        "    print('p-value: %f' % result[1])\n",
        "    print('Critical Values:')\n",
        "    for key, value in result[4].items():\n",
        "          print('\\t%s: %.3f' % (key, value))\n",
        "    if result[0] > result[4][\"5%\"]:\n",
        "      print (\"Failed to reject Ho - Time Series is not Stationary\")\n",
        "    else:\n",
        "      print (\"Reject Ho - Time Series is Stationary\")"
      ],
      "metadata": {
        "id": "YEPEP57Eyfel"
      },
      "execution_count": 21,
      "outputs": []
    },
    {
      "cell_type": "code",
      "source": [
        "dickey_test(df_new.resample('m').size())"
      ],
      "metadata": {
        "colab": {
          "base_uri": "https://localhost:8080/"
        },
        "id": "NyerKGj7yhZM",
        "outputId": "87a26fee-1299-4019-c405-d0e839950ee4"
      },
      "execution_count": 22,
      "outputs": [
        {
          "output_type": "stream",
          "name": "stdout",
          "text": [
            "ADF Statistic: -1.017609\n",
            "p-value: 0.746788\n",
            "Critical Values:\n",
            "\t1%: -3.481\n",
            "\t5%: -2.884\n",
            "\t10%: -2.579\n",
            "Failed to reject Ho - Time Series is not Stationary\n"
          ]
        }
      ]
    },
    {
      "cell_type": "markdown",
      "source": [
        "Here, ADF value is greater than the critical value\n",
        "    SO NULL Hypothesis is accepted \n",
        "    i.e The Dataset is non-Stationary\n",
        "  "
      ],
      "metadata": {
        "id": "RiR110-PzEAX"
      }
    },
    {
      "cell_type": "code",
      "source": [
        "#Log Transforming the dataset to make it Stationary\n",
        "import math\n",
        "log_data=np.log(df_new.resample('m').size())\n",
        "    \n",
        "dickey_test(log_data)\n",
        "plt.plot(log_data)"
      ],
      "metadata": {
        "colab": {
          "base_uri": "https://localhost:8080/",
          "height": 676
        },
        "id": "vioYYQpqyotn",
        "outputId": "ce03810b-a15e-4886-832d-c7746b17da73"
      },
      "execution_count": 24,
      "outputs": [
        {
          "output_type": "stream",
          "name": "stdout",
          "text": [
            "ADF Statistic: -0.535455\n",
            "p-value: 0.884910\n",
            "Critical Values:\n",
            "\t1%: -3.481\n",
            "\t5%: -2.884\n",
            "\t10%: -2.579\n",
            "Failed to reject Ho - Time Series is not Stationary\n"
          ]
        },
        {
          "output_type": "execute_result",
          "data": {
            "text/plain": [
              "[<matplotlib.lines.Line2D at 0x7f73bcbb7490>]"
            ]
          },
          "metadata": {},
          "execution_count": 24
        },
        {
          "output_type": "display_data",
          "data": {
            "text/plain": [
              "<Figure size 792x648 with 1 Axes>"
            ],
            "image/png": "[encoded data removed]"
          },
          "metadata": {
            "needs_background": "light"
          }
        }
      ]
    },
    {
      "cell_type": "markdown",
      "source": [
        "Made dataset stationary by applying log transform\n"
      ],
      "metadata": {
        "id": "rFwRfZ1IzLr0"
      }
    },
    {
      "cell_type": "code",
      "source": [
        "#Plotting the ACF and PACF graph \n",
        "import statsmodels.api as sm\n",
        "fig, ax = plt.subplots(2,1)\n",
        "fig = sm.graphics.tsa.plot_acf(df_new.resample('m').size(),  ax=ax[0])\n",
        "fig = sm.graphics.tsa.plot_pacf(df_new.resample('m').size(), ax=ax[1], method='ywm' )\n",
        "plt.show()"
      ],
      "metadata": {
        "colab": {
          "base_uri": "https://localhost:8080/",
          "height": 553
        },
        "id": "jodhOLY3w4oO",
        "outputId": "0b777583-8c19-4592-f164-16d5c4b0a545"
      },
      "execution_count": 25,
      "outputs": [
        {
          "output_type": "display_data",
          "data": {
            "text/plain": [
              "<Figure size 792x648 with 2 Axes>"
            ],
            "image/png": "[encoded data removed]"
          },
          "metadata": {
            "needs_background": "light"
          }
        }
      ]
    },
    {
      "metadata": {
        "id": "4CtaJmp5iSjX"
      },
      "cell_type": "markdown",
      "source": [
        "## Making predictions"
      ]
    },
    {
      "metadata": {
        "trusted": true,
        "id": "Cin-YaPeiSjX",
        "outputId": "1a7b2ba6-7f6b-4d6a-8cbe-58d2f2da4f66",
        "colab": {
          "base_uri": "https://localhost:8080/",
          "height": 419
        }
      },
      "cell_type": "code",
      "source": [
        "# Reseting the index number of rows\n",
        "chicago_prophet = df_new.resample('m').size().reset_index()\n",
        "chicago_prophet"
      ],
      "execution_count": null,
      "outputs": [
        {
          "output_type": "execute_result",
          "data": {
            "text/plain": [
              "          Date      0\n",
              "0   2005-01-31  33983\n",
              "1   2005-02-28  32042\n",
              "2   2005-03-31  36970\n",
              "3   2005-04-30  38963\n",
              "4   2005-05-31  40572\n",
              "..         ...    ...\n",
              "140 2016-09-30  23235\n",
              "141 2016-10-31  23314\n",
              "142 2016-11-30  21140\n",
              "143 2016-12-31  19580\n",
              "144 2017-01-31  11357\n",
              "\n",
              "[145 rows x 2 columns]"
            ],
            "text/html": [
              "\n",
              "  <div id=\"df-3955f829-7767-486e-8563-ab7be061dbb7\">\n",
              "    <div class=\"colab-df-container\">\n",
              "      <div>\n",
              "<style scoped>\n",
              "    .dataframe tbody tr th:only-of-type {\n",
              "        vertical-align: middle;\n",
              "    }\n",
              "\n",
              "    .dataframe tbody tr th {\n",
              "        vertical-align: top;\n",
              "    }\n",
              "\n",
              "    .dataframe thead th {\n",
              "        text-align: right;\n",
              "    }\n",
              "</style>\n",
              "<table border=\"1\" class=\"dataframe\">\n",
              "  <thead>\n",
              "    <tr style=\"text-align: right;\">\n",
              "      <th></th>\n",
              "      <th>Date</th>\n",
              "      <th>0</th>\n",
              "    </tr>\n",
              "  </thead>\n",
              "  <tbody>\n",
              "    <tr>\n",
              "      <th>0</th>\n",
              "      <td>2005-01-31</td>\n",
              "      <td>33983</td>\n",
              "    </tr>\n",
              "    <tr>\n",
              "      <th>1</th>\n",
              "      <td>2005-02-28</td>\n",
              "      <td>32042</td>\n",
              "    </tr>\n",
              "    <tr>\n",
              "      <th>2</th>\n",
              "      <td>2005-03-31</td>\n",
              "      <td>36970</td>\n",
              "    </tr>\n",
              "    <tr>\n",
              "      <th>3</th>\n",
              "      <td>2005-04-30</td>\n",
              "      <td>38963</td>\n",
              "    </tr>\n",
              "    <tr>\n",
              "      <th>4</th>\n",
              "      <td>2005-05-31</td>\n",
              "      <td>40572</td>\n",
              "    </tr>\n",
              "    <tr>\n",
              "      <th>...</th>\n",
              "      <td>...</td>\n",
              "      <td>...</td>\n",
              "    </tr>\n",
              "    <tr>\n",
              "      <th>140</th>\n",
              "      <td>2016-09-30</td>\n",
              "      <td>23235</td>\n",
              "    </tr>\n",
              "    <tr>\n",
              "      <th>141</th>\n",
              "      <td>2016-10-31</td>\n",
              "      <td>23314</td>\n",
              "    </tr>\n",
              "    <tr>\n",
              "      <th>142</th>\n",
              "      <td>2016-11-30</td>\n",
              "      <td>21140</td>\n",
              "    </tr>\n",
              "    <tr>\n",
              "      <th>143</th>\n",
              "      <td>2016-12-31</td>\n",
              "      <td>19580</td>\n",
              "    </tr>\n",
              "    <tr>\n",
              "      <th>144</th>\n",
              "      <td>2017-01-31</td>\n",
              "      <td>11357</td>\n",
              "    </tr>\n",
              "  </tbody>\n",
              "</table>\n",
              "<p>145 rows × 2 columns</p>\n",
              "</div>\n",
              "      <button class=\"colab-df-convert\" onclick=\"convertToInteractive('df-3955f829-7767-486e-8563-ab7be061dbb7')\"\n",
              "              title=\"Convert this dataframe to an interactive table.\"\n",
              "              style=\"display:none;\">\n",
              "        \n",
              "  <svg xmlns=\"http://www.w3.org/2000/svg\" height=\"24px\"viewBox=\"0 0 24 24\"\n",
              "       width=\"24px\">\n",
              "    <path d=\"M0 0h24v24H0V0z\" fill=\"none\"/>\n",
              "    <path d=\"M18.56 5.44l.94 2.06.94-2.06 2.06-.94-2.06-.94-.94-2.06-.94 2.06-2.06.94zm-11 1L8.5 8.5l.94-2.06 2.06-.94-2.06-.94L8.5 2.5l-.94 2.06-2.06.94zm10 10l.94 2.06.94-2.06 2.06-.94-2.06-.94-.94-2.06-.94 2.06-2.06.94z\"/><path d=\"M17.41 7.96l-1.37-1.37c-.4-.4-.92-.59-1.43-.59-.52 0-1.04.2-1.43.59L10.3 9.45l-7.72 7.72c-.78.78-.78 2.05 0 2.83L4 21.41c.39.39.9.59 1.41.59.51 0 1.02-.2 1.41-.59l7.78-7.78 2.81-2.81c.8-.78.8-2.07 0-2.86zM5.41 20L4 18.59l7.72-7.72 1.47 1.35L5.41 20z\"/>\n",
              "  </svg>\n",
              "      </button>\n",
              "      \n",
              "  <style>\n",
              "    .colab-df-container {\n",
              "      display:flex;\n",
              "      flex-wrap:wrap;\n",
              "      gap: 12px;\n",
              "    }\n",
              "\n",
              "    .colab-df-convert {\n",
              "      background-color: #E8F0FE;\n",
              "      border: none;\n",
              "      border-radius: 50%;\n",
              "      cursor: pointer;\n",
              "      display: none;\n",
              "      fill: #1967D2;\n",
              "      height: 32px;\n",
              "      padding: 0 0 0 0;\n",
              "      width: 32px;\n",
              "    }\n",
              "\n",
              "    .colab-df-convert:hover {\n",
              "      background-color: #E2EBFA;\n",
              "      box-shadow: 0px 1px 2px rgba(60, 64, 67, 0.3), 0px 1px 3px 1px rgba(60, 64, 67, 0.15);\n",
              "      fill: #174EA6;\n",
              "    }\n",
              "\n",
              "    [theme=dark] .colab-df-convert {\n",
              "      background-color: #3B4455;\n",
              "      fill: #D2E3FC;\n",
              "    }\n",
              "\n",
              "    [theme=dark] .colab-df-convert:hover {\n",
              "      background-color: #434B5C;\n",
              "      box-shadow: 0px 1px 3px 1px rgba(0, 0, 0, 0.15);\n",
              "      filter: drop-shadow(0px 1px 2px rgba(0, 0, 0, 0.3));\n",
              "      fill: #FFFFFF;\n",
              "    }\n",
              "  </style>\n",
              "\n",
              "      <script>\n",
              "        const buttonEl =\n",
              "          document.querySelector('#df-3955f829-7767-486e-8563-ab7be061dbb7 button.colab-df-convert');\n",
              "        buttonEl.style.display =\n",
              "          google.colab.kernel.accessAllowed ? 'block' : 'none';\n",
              "\n",
              "        async function convertToInteractive(key) {\n",
              "          const element = document.querySelector('#df-3955f829-7767-486e-8563-ab7be061dbb7');\n",
              "          const dataTable =\n",
              "            await google.colab.kernel.invokeFunction('convertToInteractive',\n",
              "                                                     [key], {});\n",
              "          if (!dataTable) return;\n",
              "\n",
              "          const docLinkHtml = 'Like what you see? Visit the ' +\n",
              "            '<a target=\"_blank\" href=https://colab.research.google.com/notebooks/data_table.ipynb>data table notebook</a>'\n",
              "            + ' to learn more about interactive tables.';\n",
              "          element.innerHTML = '';\n",
              "          dataTable['output_type'] = 'display_data';\n",
              "          await google.colab.output.renderOutput(dataTable, element);\n",
              "          const docLink = document.createElement('div');\n",
              "          docLink.innerHTML = docLinkHtml;\n",
              "          element.appendChild(docLink);\n",
              "        }\n",
              "      </script>\n",
              "    </div>\n",
              "  </div>\n",
              "  "
            ]
          },
          "metadata": {},
          "execution_count": 25
        }
      ]
    },
    {
      "metadata": {
        "trusted": true,
        "id": "TEj__wcUiSjY",
        "outputId": "4767642a-bf26-4821-e353-996fe4c45572",
        "colab": {
          "base_uri": "https://localhost:8080/",
          "height": 419
        }
      },
      "cell_type": "code",
      "source": [
        "# changing the column names for clarity\n",
        "chicago_prophet.columns = ['Date', 'Crime count']\n",
        "chicago_prophet"
      ],
      "execution_count": null,
      "outputs": [
        {
          "output_type": "execute_result",
          "data": {
            "text/plain": [
              "          Date  Crime count\n",
              "0   2005-01-31        33983\n",
              "1   2005-02-28        32042\n",
              "2   2005-03-31        36970\n",
              "3   2005-04-30        38963\n",
              "4   2005-05-31        40572\n",
              "..         ...          ...\n",
              "140 2016-09-30        23235\n",
              "141 2016-10-31        23314\n",
              "142 2016-11-30        21140\n",
              "143 2016-12-31        19580\n",
              "144 2017-01-31        11357\n",
              "\n",
              "[145 rows x 2 columns]"
            ],
            "text/html": [
              "\n",
              "  <div id=\"df-0aa5a053-1261-4f66-8a5a-07a4c37d2cfd\">\n",
              "    <div class=\"colab-df-container\">\n",
              "      <div>\n",
              "<style scoped>\n",
              "    .dataframe tbody tr th:only-of-type {\n",
              "        vertical-align: middle;\n",
              "    }\n",
              "\n",
              "    .dataframe tbody tr th {\n",
              "        vertical-align: top;\n",
              "    }\n",
              "\n",
              "    .dataframe thead th {\n",
              "        text-align: right;\n",
              "    }\n",
              "</style>\n",
              "<table border=\"1\" class=\"dataframe\">\n",
              "  <thead>\n",
              "    <tr style=\"text-align: right;\">\n",
              "      <th></th>\n",
              "      <th>Date</th>\n",
              "      <th>Crime count</th>\n",
              "    </tr>\n",
              "  </thead>\n",
              "  <tbody>\n",
              "    <tr>\n",
              "      <th>0</th>\n",
              "      <td>2005-01-31</td>\n",
              "      <td>33983</td>\n",
              "    </tr>\n",
              "    <tr>\n",
              "      <th>1</th>\n",
              "      <td>2005-02-28</td>\n",
              "      <td>32042</td>\n",
              "    </tr>\n",
              "    <tr>\n",
              "      <th>2</th>\n",
              "      <td>2005-03-31</td>\n",
              "      <td>36970</td>\n",
              "    </tr>\n",
              "    <tr>\n",
              "      <th>3</th>\n",
              "      <td>2005-04-30</td>\n",
              "      <td>38963</td>\n",
              "    </tr>\n",
              "    <tr>\n",
              "      <th>4</th>\n",
              "      <td>2005-05-31</td>\n",
              "      <td>40572</td>\n",
              "    </tr>\n",
              "    <tr>\n",
              "      <th>...</th>\n",
              "      <td>...</td>\n",
              "      <td>...</td>\n",
              "    </tr>\n",
              "    <tr>\n",
              "      <th>140</th>\n",
              "      <td>2016-09-30</td>\n",
              "      <td>23235</td>\n",
              "    </tr>\n",
              "    <tr>\n",
              "      <th>141</th>\n",
              "      <td>2016-10-31</td>\n",
              "      <td>23314</td>\n",
              "    </tr>\n",
              "    <tr>\n",
              "      <th>142</th>\n",
              "      <td>2016-11-30</td>\n",
              "      <td>21140</td>\n",
              "    </tr>\n",
              "    <tr>\n",
              "      <th>143</th>\n",
              "      <td>2016-12-31</td>\n",
              "      <td>19580</td>\n",
              "    </tr>\n",
              "    <tr>\n",
              "      <th>144</th>\n",
              "      <td>2017-01-31</td>\n",
              "      <td>11357</td>\n",
              "    </tr>\n",
              "  </tbody>\n",
              "</table>\n",
              "<p>145 rows × 2 columns</p>\n",
              "</div>\n",
              "      <button class=\"colab-df-convert\" onclick=\"convertToInteractive('df-0aa5a053-1261-4f66-8a5a-07a4c37d2cfd')\"\n",
              "              title=\"Convert this dataframe to an interactive table.\"\n",
              "              style=\"display:none;\">\n",
              "        \n",
              "  <svg xmlns=\"http://www.w3.org/2000/svg\" height=\"24px\"viewBox=\"0 0 24 24\"\n",
              "       width=\"24px\">\n",
              "    <path d=\"M0 0h24v24H0V0z\" fill=\"none\"/>\n",
              "    <path d=\"M18.56 5.44l.94 2.06.94-2.06 2.06-.94-2.06-.94-.94-2.06-.94 2.06-2.06.94zm-11 1L8.5 8.5l.94-2.06 2.06-.94-2.06-.94L8.5 2.5l-.94 2.06-2.06.94zm10 10l.94 2.06.94-2.06 2.06-.94-2.06-.94-.94-2.06-.94 2.06-2.06.94z\"/><path d=\"M17.41 7.96l-1.37-1.37c-.4-.4-.92-.59-1.43-.59-.52 0-1.04.2-1.43.59L10.3 9.45l-7.72 7.72c-.78.78-.78 2.05 0 2.83L4 21.41c.39.39.9.59 1.41.59.51 0 1.02-.2 1.41-.59l7.78-7.78 2.81-2.81c.8-.78.8-2.07 0-2.86zM5.41 20L4 18.59l7.72-7.72 1.47 1.35L5.41 20z\"/>\n",
              "  </svg>\n",
              "      </button>\n",
              "      \n",
              "  <style>\n",
              "    .colab-df-container {\n",
              "      display:flex;\n",
              "      flex-wrap:wrap;\n",
              "      gap: 12px;\n",
              "    }\n",
              "\n",
              "    .colab-df-convert {\n",
              "      background-color: #E8F0FE;\n",
              "      border: none;\n",
              "      border-radius: 50%;\n",
              "      cursor: pointer;\n",
              "      display: none;\n",
              "      fill: #1967D2;\n",
              "      height: 32px;\n",
              "      padding: 0 0 0 0;\n",
              "      width: 32px;\n",
              "    }\n",
              "\n",
              "    .colab-df-convert:hover {\n",
              "      background-color: #E2EBFA;\n",
              "      box-shadow: 0px 1px 2px rgba(60, 64, 67, 0.3), 0px 1px 3px 1px rgba(60, 64, 67, 0.15);\n",
              "      fill: #174EA6;\n",
              "    }\n",
              "\n",
              "    [theme=dark] .colab-df-convert {\n",
              "      background-color: #3B4455;\n",
              "      fill: #D2E3FC;\n",
              "    }\n",
              "\n",
              "    [theme=dark] .colab-df-convert:hover {\n",
              "      background-color: #434B5C;\n",
              "      box-shadow: 0px 1px 3px 1px rgba(0, 0, 0, 0.15);\n",
              "      filter: drop-shadow(0px 1px 2px rgba(0, 0, 0, 0.3));\n",
              "      fill: #FFFFFF;\n",
              "    }\n",
              "  </style>\n",
              "\n",
              "      <script>\n",
              "        const buttonEl =\n",
              "          document.querySelector('#df-0aa5a053-1261-4f66-8a5a-07a4c37d2cfd button.colab-df-convert');\n",
              "        buttonEl.style.display =\n",
              "          google.colab.kernel.accessAllowed ? 'block' : 'none';\n",
              "\n",
              "        async function convertToInteractive(key) {\n",
              "          const element = document.querySelector('#df-0aa5a053-1261-4f66-8a5a-07a4c37d2cfd');\n",
              "          const dataTable =\n",
              "            await google.colab.kernel.invokeFunction('convertToInteractive',\n",
              "                                                     [key], {});\n",
              "          if (!dataTable) return;\n",
              "\n",
              "          const docLinkHtml = 'Like what you see? Visit the ' +\n",
              "            '<a target=\"_blank\" href=https://colab.research.google.com/notebooks/data_table.ipynb>data table notebook</a>'\n",
              "            + ' to learn more about interactive tables.';\n",
              "          element.innerHTML = '';\n",
              "          dataTable['output_type'] = 'display_data';\n",
              "          await google.colab.output.renderOutput(dataTable, element);\n",
              "          const docLink = document.createElement('div');\n",
              "          docLink.innerHTML = docLinkHtml;\n",
              "          element.appendChild(docLink);\n",
              "        }\n",
              "      </script>\n",
              "    </div>\n",
              "  </div>\n",
              "  "
            ]
          },
          "metadata": {},
          "execution_count": 26
        }
      ]
    },
    {
      "metadata": {
        "id": "f6CBzT-9iSjY"
      },
      "cell_type": "markdown",
      "source": [
        "Now we have to change the column names in to 'ds' and 'y' because facebook prophet work only with columns whose names are 'ds' and 'y'. If you try to implement prophet without renaming the columns in to 'ds' and 'y', you will get an error."
      ]
    },
    {
      "metadata": {
        "trusted": true,
        "id": "wslNEBUiiSjZ",
        "outputId": "c1cde939-803f-402c-a351-0d8fa6e6a84b",
        "colab": {
          "base_uri": "https://localhost:8080/",
          "height": 419
        }
      },
      "cell_type": "code",
      "source": [
        "chicago_prophet_df_final = chicago_prophet.rename(columns = {'Date': 'ds', 'Crime count': 'y'})\n",
        "chicago_prophet_df_final"
      ],
      "execution_count": null,
      "outputs": [
        {
          "output_type": "execute_result",
          "data": {
            "text/plain": [
              "            ds      y\n",
              "0   2005-01-31  33983\n",
              "1   2005-02-28  32042\n",
              "2   2005-03-31  36970\n",
              "3   2005-04-30  38963\n",
              "4   2005-05-31  40572\n",
              "..         ...    ...\n",
              "140 2016-09-30  23235\n",
              "141 2016-10-31  23314\n",
              "142 2016-11-30  21140\n",
              "143 2016-12-31  19580\n",
              "144 2017-01-31  11357\n",
              "\n",
              "[145 rows x 2 columns]"
            ],
            "text/html": [
              "\n",
              "  <div id=\"df-72bb1bff-6532-4c5b-a5fc-d439a8c4a926\">\n",
              "    <div class=\"colab-df-container\">\n",
              "      <div>\n",
              "<style scoped>\n",
              "    .dataframe tbody tr th:only-of-type {\n",
              "        vertical-align: middle;\n",
              "    }\n",
              "\n",
              "    .dataframe tbody tr th {\n",
              "        vertical-align: top;\n",
              "    }\n",
              "\n",
              "    .dataframe thead th {\n",
              "        text-align: right;\n",
              "    }\n",
              "</style>\n",
              "<table border=\"1\" class=\"dataframe\">\n",
              "  <thead>\n",
              "    <tr style=\"text-align: right;\">\n",
              "      <th></th>\n",
              "      <th>ds</th>\n",
              "      <th>y</th>\n",
              "    </tr>\n",
              "  </thead>\n",
              "  <tbody>\n",
              "    <tr>\n",
              "      <th>0</th>\n",
              "      <td>2005-01-31</td>\n",
              "      <td>33983</td>\n",
              "    </tr>\n",
              "    <tr>\n",
              "      <th>1</th>\n",
              "      <td>2005-02-28</td>\n",
              "      <td>32042</td>\n",
              "    </tr>\n",
              "    <tr>\n",
              "      <th>2</th>\n",
              "      <td>2005-03-31</td>\n",
              "      <td>36970</td>\n",
              "    </tr>\n",
              "    <tr>\n",
              "      <th>3</th>\n",
              "      <td>2005-04-30</td>\n",
              "      <td>38963</td>\n",
              "    </tr>\n",
              "    <tr>\n",
              "      <th>4</th>\n",
              "      <td>2005-05-31</td>\n",
              "      <td>40572</td>\n",
              "    </tr>\n",
              "    <tr>\n",
              "      <th>...</th>\n",
              "      <td>...</td>\n",
              "      <td>...</td>\n",
              "    </tr>\n",
              "    <tr>\n",
              "      <th>140</th>\n",
              "      <td>2016-09-30</td>\n",
              "      <td>23235</td>\n",
              "    </tr>\n",
              "    <tr>\n",
              "      <th>141</th>\n",
              "      <td>2016-10-31</td>\n",
              "      <td>23314</td>\n",
              "    </tr>\n",
              "    <tr>\n",
              "      <th>142</th>\n",
              "      <td>2016-11-30</td>\n",
              "      <td>21140</td>\n",
              "    </tr>\n",
              "    <tr>\n",
              "      <th>143</th>\n",
              "      <td>2016-12-31</td>\n",
              "      <td>19580</td>\n",
              "    </tr>\n",
              "    <tr>\n",
              "      <th>144</th>\n",
              "      <td>2017-01-31</td>\n",
              "      <td>11357</td>\n",
              "    </tr>\n",
              "  </tbody>\n",
              "</table>\n",
              "<p>145 rows × 2 columns</p>\n",
              "</div>\n",
              "      <button class=\"colab-df-convert\" onclick=\"convertToInteractive('df-72bb1bff-6532-4c5b-a5fc-d439a8c4a926')\"\n",
              "              title=\"Convert this dataframe to an interactive table.\"\n",
              "              style=\"display:none;\">\n",
              "        \n",
              "  <svg xmlns=\"http://www.w3.org/2000/svg\" height=\"24px\"viewBox=\"0 0 24 24\"\n",
              "       width=\"24px\">\n",
              "    <path d=\"M0 0h24v24H0V0z\" fill=\"none\"/>\n",
              "    <path d=\"M18.56 5.44l.94 2.06.94-2.06 2.06-.94-2.06-.94-.94-2.06-.94 2.06-2.06.94zm-11 1L8.5 8.5l.94-2.06 2.06-.94-2.06-.94L8.5 2.5l-.94 2.06-2.06.94zm10 10l.94 2.06.94-2.06 2.06-.94-2.06-.94-.94-2.06-.94 2.06-2.06.94z\"/><path d=\"M17.41 7.96l-1.37-1.37c-.4-.4-.92-.59-1.43-.59-.52 0-1.04.2-1.43.59L10.3 9.45l-7.72 7.72c-.78.78-.78 2.05 0 2.83L4 21.41c.39.39.9.59 1.41.59.51 0 1.02-.2 1.41-.59l7.78-7.78 2.81-2.81c.8-.78.8-2.07 0-2.86zM5.41 20L4 18.59l7.72-7.72 1.47 1.35L5.41 20z\"/>\n",
              "  </svg>\n",
              "      </button>\n",
              "      \n",
              "  <style>\n",
              "    .colab-df-container {\n",
              "      display:flex;\n",
              "      flex-wrap:wrap;\n",
              "      gap: 12px;\n",
              "    }\n",
              "\n",
              "    .colab-df-convert {\n",
              "      background-color: #E8F0FE;\n",
              "      border: none;\n",
              "      border-radius: 50%;\n",
              "      cursor: pointer;\n",
              "      display: none;\n",
              "      fill: #1967D2;\n",
              "      height: 32px;\n",
              "      padding: 0 0 0 0;\n",
              "      width: 32px;\n",
              "    }\n",
              "\n",
              "    .colab-df-convert:hover {\n",
              "      background-color: #E2EBFA;\n",
              "      box-shadow: 0px 1px 2px rgba(60, 64, 67, 0.3), 0px 1px 3px 1px rgba(60, 64, 67, 0.15);\n",
              "      fill: #174EA6;\n",
              "    }\n",
              "\n",
              "    [theme=dark] .colab-df-convert {\n",
              "      background-color: #3B4455;\n",
              "      fill: #D2E3FC;\n",
              "    }\n",
              "\n",
              "    [theme=dark] .colab-df-convert:hover {\n",
              "      background-color: #434B5C;\n",
              "      box-shadow: 0px 1px 3px 1px rgba(0, 0, 0, 0.15);\n",
              "      filter: drop-shadow(0px 1px 2px rgba(0, 0, 0, 0.3));\n",
              "      fill: #FFFFFF;\n",
              "    }\n",
              "  </style>\n",
              "\n",
              "      <script>\n",
              "        const buttonEl =\n",
              "          document.querySelector('#df-72bb1bff-6532-4c5b-a5fc-d439a8c4a926 button.colab-df-convert');\n",
              "        buttonEl.style.display =\n",
              "          google.colab.kernel.accessAllowed ? 'block' : 'none';\n",
              "\n",
              "        async function convertToInteractive(key) {\n",
              "          const element = document.querySelector('#df-72bb1bff-6532-4c5b-a5fc-d439a8c4a926');\n",
              "          const dataTable =\n",
              "            await google.colab.kernel.invokeFunction('convertToInteractive',\n",
              "                                                     [key], {});\n",
              "          if (!dataTable) return;\n",
              "\n",
              "          const docLinkHtml = 'Like what you see? Visit the ' +\n",
              "            '<a target=\"_blank\" href=https://colab.research.google.com/notebooks/data_table.ipynb>data table notebook</a>'\n",
              "            + ' to learn more about interactive tables.';\n",
              "          element.innerHTML = '';\n",
              "          dataTable['output_type'] = 'display_data';\n",
              "          await google.colab.output.renderOutput(dataTable, element);\n",
              "          const docLink = document.createElement('div');\n",
              "          docLink.innerHTML = docLinkHtml;\n",
              "          element.appendChild(docLink);\n",
              "        }\n",
              "      </script>\n",
              "    </div>\n",
              "  </div>\n",
              "  "
            ]
          },
          "metadata": {},
          "execution_count": 27
        }
      ]
    },
    {
      "metadata": {
        "id": "-QsqPI9WiSjZ"
      },
      "cell_type": "markdown",
      "source": [
        "Next, i am fitting the data using prophet."
      ]
    },
    {
      "metadata": {
        "trusted": true,
        "id": "wJFGQK-wiSjZ",
        "outputId": "433f6a54-fc5d-45ba-fa27-756d3570782f",
        "colab": {
          "base_uri": "https://localhost:8080/"
        }
      },
      "cell_type": "code",
      "source": [
        "m = Prophet()\n",
        "m.fit(chicago_prophet_df_final)"
      ],
      "execution_count": null,
      "outputs": [
        {
          "output_type": "stream",
          "name": "stderr",
          "text": [
            "INFO:fbprophet:Disabling weekly seasonality. Run prophet with weekly_seasonality=True to override this.\n",
            "INFO:fbprophet:Disabling daily seasonality. Run prophet with daily_seasonality=True to override this.\n"
          ]
        },
        {
          "output_type": "execute_result",
          "data": {
            "text/plain": [
              "<fbprophet.forecaster.Prophet at 0x7f0fa6132850>"
            ]
          },
          "metadata": {},
          "execution_count": 28
        }
      ]
    },
    {
      "metadata": {
        "id": "cXHs5kIviSja"
      },
      "cell_type": "markdown",
      "source": [
        "Now, we forcast the crime rate in next 2 years. This can be done by assigning 720 (365 days * 2) to periods as shown in code below."
      ]
    },
    {
      "metadata": {
        "trusted": true,
        "id": "nCT6tZ8MiSja",
        "outputId": "46a420ff-0169-4c1c-f5f1-74ac387c158f",
        "colab": {
          "base_uri": "https://localhost:8080/",
          "height": 641
        }
      },
      "cell_type": "code",
      "source": [
        "future = m.make_future_dataframe(periods = 720)\n",
        "forecast = m.predict(future)\n",
        "forecast"
      ],
      "execution_count": null,
      "outputs": [
        {
          "output_type": "execute_result",
          "data": {
            "text/plain": [
              "            ds         trend    yhat_lower    yhat_upper   trend_lower  \\\n",
              "0   2005-01-31  60463.432502  38514.195922  72698.243812  60463.432502   \n",
              "1   2005-02-28  60332.766196  35119.724066  67263.002342  60332.766196   \n",
              "2   2005-03-31  60188.099929  41600.896535  75983.123592  60188.099929   \n",
              "3   2005-04-30  60048.100316  43502.809769  78982.440187  60048.100316   \n",
              "4   2005-05-31  59903.434049  49080.167074  82059.115762  59903.434049   \n",
              "..         ...           ...           ...           ...           ...   \n",
              "860 2019-01-17   4970.151816 -14877.372356  18381.731265   4488.416896   \n",
              "861 2019-01-18   4956.823679 -15902.733507  17658.678257   4474.320727   \n",
              "862 2019-01-19   4943.495543 -15129.117366  17912.749059   4460.224558   \n",
              "863 2019-01-20   4930.167406 -14193.048870  16993.937089   4446.128389   \n",
              "864 2019-01-21   4916.839269 -15365.991879  18182.203623   4432.032220   \n",
              "\n",
              "      trend_upper  additive_terms  additive_terms_lower  additive_terms_upper  \\\n",
              "0    60463.432502    -4803.616721          -4803.616721          -4803.616721   \n",
              "1    60332.766196    -9480.730557          -9480.730557          -9480.730557   \n",
              "2    60188.099929    -1254.934724          -1254.934724          -1254.934724   \n",
              "3    60048.100316     1114.162021           1114.162021           1114.162021   \n",
              "4    59903.434049     5396.906083           5396.906083           5396.906083   \n",
              "..            ...             ...                   ...                   ...   \n",
              "860   5435.328095    -3445.668932          -3445.668932          -3445.668932   \n",
              "861   5423.082484    -3428.069051          -3428.069051          -3428.069051   \n",
              "862   5410.836872    -3429.881651          -3429.881651          -3429.881651   \n",
              "863   5398.591261    -3450.500491          -3450.500491          -3450.500491   \n",
              "864   5386.345650    -3489.205224          -3489.205224          -3489.205224   \n",
              "\n",
              "          yearly  yearly_lower  yearly_upper  multiplicative_terms  \\\n",
              "0   -4803.616721  -4803.616721  -4803.616721                   0.0   \n",
              "1   -9480.730557  -9480.730557  -9480.730557                   0.0   \n",
              "2   -1254.934724  -1254.934724  -1254.934724                   0.0   \n",
              "3    1114.162021   1114.162021   1114.162021                   0.0   \n",
              "4    5396.906083   5396.906083   5396.906083                   0.0   \n",
              "..           ...           ...           ...                   ...   \n",
              "860 -3445.668932  -3445.668932  -3445.668932                   0.0   \n",
              "861 -3428.069051  -3428.069051  -3428.069051                   0.0   \n",
              "862 -3429.881651  -3429.881651  -3429.881651                   0.0   \n",
              "863 -3450.500491  -3450.500491  -3450.500491                   0.0   \n",
              "864 -3489.205224  -3489.205224  -3489.205224                   0.0   \n",
              "\n",
              "     multiplicative_terms_lower  multiplicative_terms_upper          yhat  \n",
              "0                           0.0                         0.0  55659.815781  \n",
              "1                           0.0                         0.0  50852.035639  \n",
              "2                           0.0                         0.0  58933.165205  \n",
              "3                           0.0                         0.0  61162.262337  \n",
              "4                           0.0                         0.0  65300.340133  \n",
              "..                          ...                         ...           ...  \n",
              "860                         0.0                         0.0   1524.482884  \n",
              "861                         0.0                         0.0   1528.754628  \n",
              "862                         0.0                         0.0   1513.613891  \n",
              "863                         0.0                         0.0   1479.666915  \n",
              "864                         0.0                         0.0   1427.634045  \n",
              "\n",
              "[865 rows x 16 columns]"
            ],
            "text/html": [
              "\n",
              "  <div id=\"df-31308fe9-c49a-4c36-9802-c2fcc0731666\">\n",
              "    <div class=\"colab-df-container\">\n",
              "      <div>\n",
              "<style scoped>\n",
              "    .dataframe tbody tr th:only-of-type {\n",
              "        vertical-align: middle;\n",
              "    }\n",
              "\n",
              "    .dataframe tbody tr th {\n",
              "        vertical-align: top;\n",
              "    }\n",
              "\n",
              "    .dataframe thead th {\n",
              "        text-align: right;\n",
              "    }\n",
              "</style>\n",
              "<table border=\"1\" class=\"dataframe\">\n",
              "  <thead>\n",
              "    <tr style=\"text-align: right;\">\n",
              "      <th></th>\n",
              "      <th>ds</th>\n",
              "      <th>trend</th>\n",
              "      <th>yhat_lower</th>\n",
              "      <th>yhat_upper</th>\n",
              "      <th>trend_lower</th>\n",
              "      <th>trend_upper</th>\n",
              "      <th>additive_terms</th>\n",
              "      <th>additive_terms_lower</th>\n",
              "      <th>additive_terms_upper</th>\n",
              "      <th>yearly</th>\n",
              "      <th>yearly_lower</th>\n",
              "      <th>yearly_upper</th>\n",
              "      <th>multiplicative_terms</th>\n",
              "      <th>multiplicative_terms_lower</th>\n",
              "      <th>multiplicative_terms_upper</th>\n",
              "      <th>yhat</th>\n",
              "    </tr>\n",
              "  </thead>\n",
              "  <tbody>\n",
              "    <tr>\n",
              "      <th>0</th>\n",
              "      <td>2005-01-31</td>\n",
              "      <td>60463.432502</td>\n",
              "      <td>38514.195922</td>\n",
              "      <td>72698.243812</td>\n",
              "      <td>60463.432502</td>\n",
              "      <td>60463.432502</td>\n",
              "      <td>-4803.616721</td>\n",
              "      <td>-4803.616721</td>\n",
              "      <td>-4803.616721</td>\n",
              "      <td>-4803.616721</td>\n",
              "      <td>-4803.616721</td>\n",
              "      <td>-4803.616721</td>\n",
              "      <td>0.0</td>\n",
              "      <td>0.0</td>\n",
              "      <td>0.0</td>\n",
              "      <td>55659.815781</td>\n",
              "    </tr>\n",
              "    <tr>\n",
              "      <th>1</th>\n",
              "      <td>2005-02-28</td>\n",
              "      <td>60332.766196</td>\n",
              "      <td>35119.724066</td>\n",
              "      <td>67263.002342</td>\n",
              "      <td>60332.766196</td>\n",
              "      <td>60332.766196</td>\n",
              "      <td>-9480.730557</td>\n",
              "      <td>-9480.730557</td>\n",
              "      <td>-9480.730557</td>\n",
              "      <td>-9480.730557</td>\n",
              "      <td>-9480.730557</td>\n",
              "      <td>-9480.730557</td>\n",
              "      <td>0.0</td>\n",
              "      <td>0.0</td>\n",
              "      <td>0.0</td>\n",
              "      <td>50852.035639</td>\n",
              "    </tr>\n",
              "    <tr>\n",
              "      <th>2</th>\n",
              "      <td>2005-03-31</td>\n",
              "      <td>60188.099929</td>\n",
              "      <td>41600.896535</td>\n",
              "      <td>75983.123592</td>\n",
              "      <td>60188.099929</td>\n",
              "      <td>60188.099929</td>\n",
              "      <td>-1254.934724</td>\n",
              "      <td>-1254.934724</td>\n",
              "      <td>-1254.934724</td>\n",
              "      <td>-1254.934724</td>\n",
              "      <td>-1254.934724</td>\n",
              "      <td>-1254.934724</td>\n",
              "      <td>0.0</td>\n",
              "      <td>0.0</td>\n",
              "      <td>0.0</td>\n",
              "      <td>58933.165205</td>\n",
              "    </tr>\n",
              "    <tr>\n",
              "      <th>3</th>\n",
              "      <td>2005-04-30</td>\n",
              "      <td>60048.100316</td>\n",
              "      <td>43502.809769</td>\n",
              "      <td>78982.440187</td>\n",
              "      <td>60048.100316</td>\n",
              "      <td>60048.100316</td>\n",
              "      <td>1114.162021</td>\n",
              "      <td>1114.162021</td>\n",
              "      <td>1114.162021</td>\n",
              "      <td>1114.162021</td>\n",
              "      <td>1114.162021</td>\n",
              "      <td>1114.162021</td>\n",
              "      <td>0.0</td>\n",
              "      <td>0.0</td>\n",
              "      <td>0.0</td>\n",
              "      <td>61162.262337</td>\n",
              "    </tr>\n",
              "    <tr>\n",
              "      <th>4</th>\n",
              "      <td>2005-05-31</td>\n",
              "      <td>59903.434049</td>\n",
              "      <td>49080.167074</td>\n",
              "      <td>82059.115762</td>\n",
              "      <td>59903.434049</td>\n",
              "      <td>59903.434049</td>\n",
              "      <td>5396.906083</td>\n",
              "      <td>5396.906083</td>\n",
              "      <td>5396.906083</td>\n",
              "      <td>5396.906083</td>\n",
              "      <td>5396.906083</td>\n",
              "      <td>5396.906083</td>\n",
              "      <td>0.0</td>\n",
              "      <td>0.0</td>\n",
              "      <td>0.0</td>\n",
              "      <td>65300.340133</td>\n",
              "    </tr>\n",
              "    <tr>\n",
              "      <th>...</th>\n",
              "      <td>...</td>\n",
              "      <td>...</td>\n",
              "      <td>...</td>\n",
              "      <td>...</td>\n",
              "      <td>...</td>\n",
              "      <td>...</td>\n",
              "      <td>...</td>\n",
              "      <td>...</td>\n",
              "      <td>...</td>\n",
              "      <td>...</td>\n",
              "      <td>...</td>\n",
              "      <td>...</td>\n",
              "      <td>...</td>\n",
              "      <td>...</td>\n",
              "      <td>...</td>\n",
              "      <td>...</td>\n",
              "    </tr>\n",
              "    <tr>\n",
              "      <th>860</th>\n",
              "      <td>2019-01-17</td>\n",
              "      <td>4970.151816</td>\n",
              "      <td>-14877.372356</td>\n",
              "      <td>18381.731265</td>\n",
              "      <td>4488.416896</td>\n",
              "      <td>5435.328095</td>\n",
              "      <td>-3445.668932</td>\n",
              "      <td>-3445.668932</td>\n",
              "      <td>-3445.668932</td>\n",
              "      <td>-3445.668932</td>\n",
              "      <td>-3445.668932</td>\n",
              "      <td>-3445.668932</td>\n",
              "      <td>0.0</td>\n",
              "      <td>0.0</td>\n",
              "      <td>0.0</td>\n",
              "      <td>1524.482884</td>\n",
              "    </tr>\n",
              "    <tr>\n",
              "      <th>861</th>\n",
              "      <td>2019-01-18</td>\n",
              "      <td>4956.823679</td>\n",
              "      <td>-15902.733507</td>\n",
              "      <td>17658.678257</td>\n",
              "      <td>4474.320727</td>\n",
              "      <td>5423.082484</td>\n",
              "      <td>-3428.069051</td>\n",
              "      <td>-3428.069051</td>\n",
              "      <td>-3428.069051</td>\n",
              "      <td>-3428.069051</td>\n",
              "      <td>-3428.069051</td>\n",
              "      <td>-3428.069051</td>\n",
              "      <td>0.0</td>\n",
              "      <td>0.0</td>\n",
              "      <td>0.0</td>\n",
              "      <td>1528.754628</td>\n",
              "    </tr>\n",
              "    <tr>\n",
              "      <th>862</th>\n",
              "      <td>2019-01-19</td>\n",
              "      <td>4943.495543</td>\n",
              "      <td>-15129.117366</td>\n",
              "      <td>17912.749059</td>\n",
              "      <td>4460.224558</td>\n",
              "      <td>5410.836872</td>\n",
              "      <td>-3429.881651</td>\n",
              "      <td>-3429.881651</td>\n",
              "      <td>-3429.881651</td>\n",
              "      <td>-3429.881651</td>\n",
              "      <td>-3429.881651</td>\n",
              "      <td>-3429.881651</td>\n",
              "      <td>0.0</td>\n",
              "      <td>0.0</td>\n",
              "      <td>0.0</td>\n",
              "      <td>1513.613891</td>\n",
              "    </tr>\n",
              "    <tr>\n",
              "      <th>863</th>\n",
              "      <td>2019-01-20</td>\n",
              "      <td>4930.167406</td>\n",
              "      <td>-14193.048870</td>\n",
              "      <td>16993.937089</td>\n",
              "      <td>4446.128389</td>\n",
              "      <td>5398.591261</td>\n",
              "      <td>-3450.500491</td>\n",
              "      <td>-3450.500491</td>\n",
              "      <td>-3450.500491</td>\n",
              "      <td>-3450.500491</td>\n",
              "      <td>-3450.500491</td>\n",
              "      <td>-3450.500491</td>\n",
              "      <td>0.0</td>\n",
              "      <td>0.0</td>\n",
              "      <td>0.0</td>\n",
              "      <td>1479.666915</td>\n",
              "    </tr>\n",
              "    <tr>\n",
              "      <th>864</th>\n",
              "      <td>2019-01-21</td>\n",
              "      <td>4916.839269</td>\n",
              "      <td>-15365.991879</td>\n",
              "      <td>18182.203623</td>\n",
              "      <td>4432.032220</td>\n",
              "      <td>5386.345650</td>\n",
              "      <td>-3489.205224</td>\n",
              "      <td>-3489.205224</td>\n",
              "      <td>-3489.205224</td>\n",
              "      <td>-3489.205224</td>\n",
              "      <td>-3489.205224</td>\n",
              "      <td>-3489.205224</td>\n",
              "      <td>0.0</td>\n",
              "      <td>0.0</td>\n",
              "      <td>0.0</td>\n",
              "      <td>1427.634045</td>\n",
              "    </tr>\n",
              "  </tbody>\n",
              "</table>\n",
              "<p>865 rows × 16 columns</p>\n",
              "</div>\n",
              "      <button class=\"colab-df-convert\" onclick=\"convertToInteractive('df-31308fe9-c49a-4c36-9802-c2fcc0731666')\"\n",
              "              title=\"Convert this dataframe to an interactive table.\"\n",
              "              style=\"display:none;\">\n",
              "        \n",
              "  <svg xmlns=\"http://www.w3.org/2000/svg\" height=\"24px\"viewBox=\"0 0 24 24\"\n",
              "       width=\"24px\">\n",
              "    <path d=\"M0 0h24v24H0V0z\" fill=\"none\"/>\n",
              "    <path d=\"M18.56 5.44l.94 2.06.94-2.06 2.06-.94-2.06-.94-.94-2.06-.94 2.06-2.06.94zm-11 1L8.5 8.5l.94-2.06 2.06-.94-2.06-.94L8.5 2.5l-.94 2.06-2.06.94zm10 10l.94 2.06.94-2.06 2.06-.94-2.06-.94-.94-2.06-.94 2.06-2.06.94z\"/><path d=\"M17.41 7.96l-1.37-1.37c-.4-.4-.92-.59-1.43-.59-.52 0-1.04.2-1.43.59L10.3 9.45l-7.72 7.72c-.78.78-.78 2.05 0 2.83L4 21.41c.39.39.9.59 1.41.59.51 0 1.02-.2 1.41-.59l7.78-7.78 2.81-2.81c.8-.78.8-2.07 0-2.86zM5.41 20L4 18.59l7.72-7.72 1.47 1.35L5.41 20z\"/>\n",
              "  </svg>\n",
              "      </button>\n",
              "      \n",
              "  <style>\n",
              "    .colab-df-container {\n",
              "      display:flex;\n",
              "      flex-wrap:wrap;\n",
              "      gap: 12px;\n",
              "    }\n",
              "\n",
              "    .colab-df-convert {\n",
              "      background-color: #E8F0FE;\n",
              "      border: none;\n",
              "      border-radius: 50%;\n",
              "      cursor: pointer;\n",
              "      display: none;\n",
              "      fill: #1967D2;\n",
              "      height: 32px;\n",
              "      padding: 0 0 0 0;\n",
              "      width: 32px;\n",
              "    }\n",
              "\n",
              "    .colab-df-convert:hover {\n",
              "      background-color: #E2EBFA;\n",
              "      box-shadow: 0px 1px 2px rgba(60, 64, 67, 0.3), 0px 1px 3px 1px rgba(60, 64, 67, 0.15);\n",
              "      fill: #174EA6;\n",
              "    }\n",
              "\n",
              "    [theme=dark] .colab-df-convert {\n",
              "      background-color: #3B4455;\n",
              "      fill: #D2E3FC;\n",
              "    }\n",
              "\n",
              "    [theme=dark] .colab-df-convert:hover {\n",
              "      background-color: #434B5C;\n",
              "      box-shadow: 0px 1px 3px 1px rgba(0, 0, 0, 0.15);\n",
              "      filter: drop-shadow(0px 1px 2px rgba(0, 0, 0, 0.3));\n",
              "      fill: #FFFFFF;\n",
              "    }\n",
              "  </style>\n",
              "\n",
              "      <script>\n",
              "        const buttonEl =\n",
              "          document.querySelector('#df-31308fe9-c49a-4c36-9802-c2fcc0731666 button.colab-df-convert');\n",
              "        buttonEl.style.display =\n",
              "          google.colab.kernel.accessAllowed ? 'block' : 'none';\n",
              "\n",
              "        async function convertToInteractive(key) {\n",
              "          const element = document.querySelector('#df-31308fe9-c49a-4c36-9802-c2fcc0731666');\n",
              "          const dataTable =\n",
              "            await google.colab.kernel.invokeFunction('convertToInteractive',\n",
              "                                                     [key], {});\n",
              "          if (!dataTable) return;\n",
              "\n",
              "          const docLinkHtml = 'Like what you see? Visit the ' +\n",
              "            '<a target=\"_blank\" href=https://colab.research.google.com/notebooks/data_table.ipynb>data table notebook</a>'\n",
              "            + ' to learn more about interactive tables.';\n",
              "          element.innerHTML = '';\n",
              "          dataTable['output_type'] = 'display_data';\n",
              "          await google.colab.output.renderOutput(dataTable, element);\n",
              "          const docLink = document.createElement('div');\n",
              "          docLink.innerHTML = docLinkHtml;\n",
              "          element.appendChild(docLink);\n",
              "        }\n",
              "      </script>\n",
              "    </div>\n",
              "  </div>\n",
              "  "
            ]
          },
          "metadata": {},
          "execution_count": 29
        }
      ]
    },
    {
      "metadata": {
        "trusted": true,
        "id": "hAE8tjLkiSjb",
        "outputId": "9e418516-7551-4977-cba4-45a37c60192e",
        "colab": {
          "base_uri": "https://localhost:8080/",
          "height": 441
        }
      },
      "cell_type": "code",
      "source": [
        "figure = m.plot(forecast, xlabel = 'Date', ylabel = 'Crime rate')"
      ],
      "execution_count": null,
      "outputs": [
        {
          "output_type": "display_data",
          "data": {
            "text/plain": [
              "<Figure size 720x432 with 1 Axes>"
            ],
            "image/png": "[encoded data removed]"
          },
          "metadata": {}
        }
      ]
    },
    {
      "metadata": {
        "trusted": true,
        "id": "-5TgzMDhiSjb",
        "colab": {
          "base_uri": "https://localhost:8080/",
          "height": 441
        },
        "outputId": "6aeecbbe-0bc5-4540-b8cb-bb20dc4f90fd"
      },
      "cell_type": "code",
      "source": [
        "figure = m.plot_components(forecast)"
      ],
      "execution_count": null,
      "outputs": [
        {
          "output_type": "display_data",
          "data": {
            "text/plain": [
              "<Figure size 648x432 with 2 Axes>"
            ],
            "image/png": "[encoded data removed]"
          },
          "metadata": {}
        }
      ]
    },
    {
      "metadata": {
        "id": "-H3mvaEjiSjb"
      },
      "cell_type": "markdown",
      "source": [
        "As we can see in above plots the crime rate is showing the decreasing trend over the years and it will countinue also in next 2 years till 2019.\n",
        "\n",
        "Also we can notice, in a specific year the crime rate increased in summer between March and November. From mid of May to first week of September is the worst period in term of crime rate. Chicago police should be extra vigilant between this period. "
      ]
    },
    {
      "metadata": {
        "id": "fERX0YmMiSjc"
      },
      "cell_type": "markdown",
      "source": [
        "## Conclusion and results\n",
        "\n",
        "\n",
        "I found some of the useful results and insights in this notebook. These are\n",
        "\n",
        "1. Theft is a most common crime in Chicago.\n",
        "2. Majority of crimes happens on street.\n",
        "3. There is a decreasing trend in a crime rate over the years which is good news.\n",
        "4. Majority of the crimes happened in summer between March and November in a specific year. "
      ]
    }
  ],
  "metadata": {
    "kernelspec": {
      "name": "python3",
      "display_name": "Python 3",
      "language": "python"
    },
    "language_info": {
      "name": "python",
      "version": "3.7.6",
      "mimetype": "text/x-python",
      "codemirror_mode": {
        "name": "ipython",
        "version": 3
      },
      "pygments_lexer": "ipython3",
      "nbconvert_exporter": "python",
      "file_extension": ".py"
    },
    "colab": {
      "name": "Expt6_DS_JJ.ipynb",
      "provenance": []
    }
  },
  "nbformat": 4,
  "nbformat_minor": 0
}